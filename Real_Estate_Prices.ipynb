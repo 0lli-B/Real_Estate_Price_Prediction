{
 "cells": [
  {
   "cell_type": "code",
   "execution_count": 1,
   "id": "cffef576",
   "metadata": {},
   "outputs": [],
   "source": [
    "%matplotlib inline\n",
    "import numpy as np\n",
    "import pandas as pd\n",
    "import matplotlib.pyplot as plt\n",
    "from sklearn.model_selection import train_test_split\n",
    "from sklearn.impute import SimpleImputer\n",
    "from sklearn.preprocessing import OneHotEncoder, StandardScaler\n",
    "from sklearn.pipeline import Pipeline\n",
    "from sklearn.compose import ColumnTransformer\n",
    "from sklearn.tree import DecisionTreeRegressor\n",
    "from sklearn.metrics import mean_squared_error\n",
    "from sklearn.model_selection import RandomizedSearchCV, GridSearchCV\n",
    "from sklearn.linear_model import LinearRegression\n",
    "from sklearn.svm import SVR\n",
    "from sklearn.ensemble import RandomForestRegressor, GradientBoostingRegressor, VotingRegressor\n",
    "import joblib\n",
    "import tensorflow as tf\n",
    "from tensorflow import keras\n",
    "from tensorflow.keras.layers import Input, Dense, Dropout, BatchNormalization, Activation\n",
    "import keras_tuner as kt\n",
    "from tensorflow.keras.optimizers import Adam\n",
    "from tensorflow.keras.losses import MeanSquaredError\n",
    "from tensorflow.keras.metrics import RootMeanSquaredError\n",
    "from tensorflow.keras.callbacks import EarlyStopping, ModelCheckpoint, TensorBoard"
   ]
  },
  {
   "cell_type": "code",
   "execution_count": 2,
   "id": "8a0e822d",
   "metadata": {},
   "outputs": [],
   "source": [
    "filename = 'housing.csv'"
   ]
  },
  {
   "cell_type": "code",
   "execution_count": 3,
   "id": "8533a9f1",
   "metadata": {},
   "outputs": [],
   "source": [
    "df = pd.read_csv(filename)"
   ]
  },
  {
   "cell_type": "markdown",
   "id": "3f8c3af6",
   "metadata": {},
   "source": [
    "# Exploration"
   ]
  },
  {
   "cell_type": "code",
   "execution_count": 4,
   "id": "39766761",
   "metadata": {},
   "outputs": [
    {
     "data": {
      "text/html": [
       "<div>\n",
       "<style scoped>\n",
       "    .dataframe tbody tr th:only-of-type {\n",
       "        vertical-align: middle;\n",
       "    }\n",
       "\n",
       "    .dataframe tbody tr th {\n",
       "        vertical-align: top;\n",
       "    }\n",
       "\n",
       "    .dataframe thead th {\n",
       "        text-align: right;\n",
       "    }\n",
       "</style>\n",
       "<table border=\"1\" class=\"dataframe\">\n",
       "  <thead>\n",
       "    <tr style=\"text-align: right;\">\n",
       "      <th></th>\n",
       "      <th>longitude</th>\n",
       "      <th>latitude</th>\n",
       "      <th>housing_median_age</th>\n",
       "      <th>total_rooms</th>\n",
       "      <th>total_bedrooms</th>\n",
       "      <th>population</th>\n",
       "      <th>households</th>\n",
       "      <th>median_income</th>\n",
       "      <th>median_house_value</th>\n",
       "      <th>ocean_proximity</th>\n",
       "    </tr>\n",
       "  </thead>\n",
       "  <tbody>\n",
       "    <tr>\n",
       "      <th>0</th>\n",
       "      <td>-122.23</td>\n",
       "      <td>37.88</td>\n",
       "      <td>41.0</td>\n",
       "      <td>880.0</td>\n",
       "      <td>129.0</td>\n",
       "      <td>322.0</td>\n",
       "      <td>126.0</td>\n",
       "      <td>8.3252</td>\n",
       "      <td>452600.0</td>\n",
       "      <td>NEAR BAY</td>\n",
       "    </tr>\n",
       "    <tr>\n",
       "      <th>1</th>\n",
       "      <td>-122.22</td>\n",
       "      <td>37.86</td>\n",
       "      <td>21.0</td>\n",
       "      <td>7099.0</td>\n",
       "      <td>1106.0</td>\n",
       "      <td>2401.0</td>\n",
       "      <td>1138.0</td>\n",
       "      <td>8.3014</td>\n",
       "      <td>358500.0</td>\n",
       "      <td>NEAR BAY</td>\n",
       "    </tr>\n",
       "    <tr>\n",
       "      <th>2</th>\n",
       "      <td>-122.24</td>\n",
       "      <td>37.85</td>\n",
       "      <td>52.0</td>\n",
       "      <td>1467.0</td>\n",
       "      <td>190.0</td>\n",
       "      <td>496.0</td>\n",
       "      <td>177.0</td>\n",
       "      <td>7.2574</td>\n",
       "      <td>352100.0</td>\n",
       "      <td>NEAR BAY</td>\n",
       "    </tr>\n",
       "    <tr>\n",
       "      <th>3</th>\n",
       "      <td>-122.25</td>\n",
       "      <td>37.85</td>\n",
       "      <td>52.0</td>\n",
       "      <td>1274.0</td>\n",
       "      <td>235.0</td>\n",
       "      <td>558.0</td>\n",
       "      <td>219.0</td>\n",
       "      <td>5.6431</td>\n",
       "      <td>341300.0</td>\n",
       "      <td>NEAR BAY</td>\n",
       "    </tr>\n",
       "    <tr>\n",
       "      <th>4</th>\n",
       "      <td>-122.25</td>\n",
       "      <td>37.85</td>\n",
       "      <td>52.0</td>\n",
       "      <td>1627.0</td>\n",
       "      <td>280.0</td>\n",
       "      <td>565.0</td>\n",
       "      <td>259.0</td>\n",
       "      <td>3.8462</td>\n",
       "      <td>342200.0</td>\n",
       "      <td>NEAR BAY</td>\n",
       "    </tr>\n",
       "  </tbody>\n",
       "</table>\n",
       "</div>"
      ],
      "text/plain": [
       "   longitude  latitude  housing_median_age  total_rooms  total_bedrooms  \\\n",
       "0    -122.23     37.88                41.0        880.0           129.0   \n",
       "1    -122.22     37.86                21.0       7099.0          1106.0   \n",
       "2    -122.24     37.85                52.0       1467.0           190.0   \n",
       "3    -122.25     37.85                52.0       1274.0           235.0   \n",
       "4    -122.25     37.85                52.0       1627.0           280.0   \n",
       "\n",
       "   population  households  median_income  median_house_value ocean_proximity  \n",
       "0       322.0       126.0         8.3252            452600.0        NEAR BAY  \n",
       "1      2401.0      1138.0         8.3014            358500.0        NEAR BAY  \n",
       "2       496.0       177.0         7.2574            352100.0        NEAR BAY  \n",
       "3       558.0       219.0         5.6431            341300.0        NEAR BAY  \n",
       "4       565.0       259.0         3.8462            342200.0        NEAR BAY  "
      ]
     },
     "execution_count": 4,
     "metadata": {},
     "output_type": "execute_result"
    }
   ],
   "source": [
    "df.head()"
   ]
  },
  {
   "cell_type": "code",
   "execution_count": 5,
   "id": "81d864b6",
   "metadata": {},
   "outputs": [
    {
     "name": "stdout",
     "output_type": "stream",
     "text": [
      "<class 'pandas.core.frame.DataFrame'>\n",
      "RangeIndex: 20640 entries, 0 to 20639\n",
      "Data columns (total 10 columns):\n",
      " #   Column              Non-Null Count  Dtype  \n",
      "---  ------              --------------  -----  \n",
      " 0   longitude           20640 non-null  float64\n",
      " 1   latitude            20640 non-null  float64\n",
      " 2   housing_median_age  20640 non-null  float64\n",
      " 3   total_rooms         20640 non-null  float64\n",
      " 4   total_bedrooms      20433 non-null  float64\n",
      " 5   population          20640 non-null  float64\n",
      " 6   households          20640 non-null  float64\n",
      " 7   median_income       20640 non-null  float64\n",
      " 8   median_house_value  20640 non-null  float64\n",
      " 9   ocean_proximity     20640 non-null  object \n",
      "dtypes: float64(9), object(1)\n",
      "memory usage: 1.6+ MB\n"
     ]
    }
   ],
   "source": [
    "df.info()"
   ]
  },
  {
   "cell_type": "markdown",
   "id": "f379a725",
   "metadata": {},
   "source": [
    "9 numeric features; 1 categorical feature; some total_bedrooms missing"
   ]
  },
  {
   "cell_type": "code",
   "execution_count": 6,
   "id": "0a284dd0",
   "metadata": {},
   "outputs": [
    {
     "data": {
      "text/plain": [
       "<1H OCEAN     9136\n",
       "INLAND        6551\n",
       "NEAR OCEAN    2658\n",
       "NEAR BAY      2290\n",
       "ISLAND           5\n",
       "Name: ocean_proximity, dtype: int64"
      ]
     },
     "execution_count": 6,
     "metadata": {},
     "output_type": "execute_result"
    }
   ],
   "source": [
    "df['ocean_proximity'].value_counts()"
   ]
  },
  {
   "cell_type": "code",
   "execution_count": 7,
   "id": "7e1616bf",
   "metadata": {},
   "outputs": [
    {
     "data": {
      "text/html": [
       "<div>\n",
       "<style scoped>\n",
       "    .dataframe tbody tr th:only-of-type {\n",
       "        vertical-align: middle;\n",
       "    }\n",
       "\n",
       "    .dataframe tbody tr th {\n",
       "        vertical-align: top;\n",
       "    }\n",
       "\n",
       "    .dataframe thead th {\n",
       "        text-align: right;\n",
       "    }\n",
       "</style>\n",
       "<table border=\"1\" class=\"dataframe\">\n",
       "  <thead>\n",
       "    <tr style=\"text-align: right;\">\n",
       "      <th></th>\n",
       "      <th>longitude</th>\n",
       "      <th>latitude</th>\n",
       "      <th>housing_median_age</th>\n",
       "      <th>total_rooms</th>\n",
       "      <th>total_bedrooms</th>\n",
       "      <th>population</th>\n",
       "      <th>households</th>\n",
       "      <th>median_income</th>\n",
       "      <th>median_house_value</th>\n",
       "    </tr>\n",
       "  </thead>\n",
       "  <tbody>\n",
       "    <tr>\n",
       "      <th>count</th>\n",
       "      <td>20640.000000</td>\n",
       "      <td>20640.000000</td>\n",
       "      <td>20640.000000</td>\n",
       "      <td>20640.000000</td>\n",
       "      <td>20433.000000</td>\n",
       "      <td>20640.000000</td>\n",
       "      <td>20640.000000</td>\n",
       "      <td>20640.000000</td>\n",
       "      <td>20640.000000</td>\n",
       "    </tr>\n",
       "    <tr>\n",
       "      <th>mean</th>\n",
       "      <td>-119.569704</td>\n",
       "      <td>35.631861</td>\n",
       "      <td>28.639486</td>\n",
       "      <td>2635.763081</td>\n",
       "      <td>537.870553</td>\n",
       "      <td>1425.476744</td>\n",
       "      <td>499.539680</td>\n",
       "      <td>3.870671</td>\n",
       "      <td>206855.816909</td>\n",
       "    </tr>\n",
       "    <tr>\n",
       "      <th>std</th>\n",
       "      <td>2.003532</td>\n",
       "      <td>2.135952</td>\n",
       "      <td>12.585558</td>\n",
       "      <td>2181.615252</td>\n",
       "      <td>421.385070</td>\n",
       "      <td>1132.462122</td>\n",
       "      <td>382.329753</td>\n",
       "      <td>1.899822</td>\n",
       "      <td>115395.615874</td>\n",
       "    </tr>\n",
       "    <tr>\n",
       "      <th>min</th>\n",
       "      <td>-124.350000</td>\n",
       "      <td>32.540000</td>\n",
       "      <td>1.000000</td>\n",
       "      <td>2.000000</td>\n",
       "      <td>1.000000</td>\n",
       "      <td>3.000000</td>\n",
       "      <td>1.000000</td>\n",
       "      <td>0.499900</td>\n",
       "      <td>14999.000000</td>\n",
       "    </tr>\n",
       "    <tr>\n",
       "      <th>25%</th>\n",
       "      <td>-121.800000</td>\n",
       "      <td>33.930000</td>\n",
       "      <td>18.000000</td>\n",
       "      <td>1447.750000</td>\n",
       "      <td>296.000000</td>\n",
       "      <td>787.000000</td>\n",
       "      <td>280.000000</td>\n",
       "      <td>2.563400</td>\n",
       "      <td>119600.000000</td>\n",
       "    </tr>\n",
       "    <tr>\n",
       "      <th>50%</th>\n",
       "      <td>-118.490000</td>\n",
       "      <td>34.260000</td>\n",
       "      <td>29.000000</td>\n",
       "      <td>2127.000000</td>\n",
       "      <td>435.000000</td>\n",
       "      <td>1166.000000</td>\n",
       "      <td>409.000000</td>\n",
       "      <td>3.534800</td>\n",
       "      <td>179700.000000</td>\n",
       "    </tr>\n",
       "    <tr>\n",
       "      <th>75%</th>\n",
       "      <td>-118.010000</td>\n",
       "      <td>37.710000</td>\n",
       "      <td>37.000000</td>\n",
       "      <td>3148.000000</td>\n",
       "      <td>647.000000</td>\n",
       "      <td>1725.000000</td>\n",
       "      <td>605.000000</td>\n",
       "      <td>4.743250</td>\n",
       "      <td>264725.000000</td>\n",
       "    </tr>\n",
       "    <tr>\n",
       "      <th>max</th>\n",
       "      <td>-114.310000</td>\n",
       "      <td>41.950000</td>\n",
       "      <td>52.000000</td>\n",
       "      <td>39320.000000</td>\n",
       "      <td>6445.000000</td>\n",
       "      <td>35682.000000</td>\n",
       "      <td>6082.000000</td>\n",
       "      <td>15.000100</td>\n",
       "      <td>500001.000000</td>\n",
       "    </tr>\n",
       "  </tbody>\n",
       "</table>\n",
       "</div>"
      ],
      "text/plain": [
       "          longitude      latitude  housing_median_age   total_rooms  \\\n",
       "count  20640.000000  20640.000000        20640.000000  20640.000000   \n",
       "mean    -119.569704     35.631861           28.639486   2635.763081   \n",
       "std        2.003532      2.135952           12.585558   2181.615252   \n",
       "min     -124.350000     32.540000            1.000000      2.000000   \n",
       "25%     -121.800000     33.930000           18.000000   1447.750000   \n",
       "50%     -118.490000     34.260000           29.000000   2127.000000   \n",
       "75%     -118.010000     37.710000           37.000000   3148.000000   \n",
       "max     -114.310000     41.950000           52.000000  39320.000000   \n",
       "\n",
       "       total_bedrooms    population    households  median_income  \\\n",
       "count    20433.000000  20640.000000  20640.000000   20640.000000   \n",
       "mean       537.870553   1425.476744    499.539680       3.870671   \n",
       "std        421.385070   1132.462122    382.329753       1.899822   \n",
       "min          1.000000      3.000000      1.000000       0.499900   \n",
       "25%        296.000000    787.000000    280.000000       2.563400   \n",
       "50%        435.000000   1166.000000    409.000000       3.534800   \n",
       "75%        647.000000   1725.000000    605.000000       4.743250   \n",
       "max       6445.000000  35682.000000   6082.000000      15.000100   \n",
       "\n",
       "       median_house_value  \n",
       "count        20640.000000  \n",
       "mean        206855.816909  \n",
       "std         115395.615874  \n",
       "min          14999.000000  \n",
       "25%         119600.000000  \n",
       "50%         179700.000000  \n",
       "75%         264725.000000  \n",
       "max         500001.000000  "
      ]
     },
     "execution_count": 7,
     "metadata": {},
     "output_type": "execute_result"
    }
   ],
   "source": [
    "df.describe()"
   ]
  },
  {
   "cell_type": "code",
   "execution_count": 8,
   "id": "2f8fadde",
   "metadata": {},
   "outputs": [
    {
     "data": {
      "image/png": "[encoded data removed]",
      "text/plain": [
       "<Figure size 1440x1080 with 9 Axes>"
      ]
     },
     "metadata": {
      "needs_background": "light"
     },
     "output_type": "display_data"
    }
   ],
   "source": [
    "df.hist(bins=50, figsize=(20,15))\n",
    "plt.show()"
   ]
  },
  {
   "cell_type": "markdown",
   "id": "b21345cf",
   "metadata": {},
   "source": [
    "median_house_value, median_house_age & median_income are aggregated at some point (need to be removed in training-data) - \n",
    "especially problematic with the target (wrong values)"
   ]
  },
  {
   "cell_type": "markdown",
   "id": "ed738c45",
   "metadata": {},
   "source": [
    "median_income is scaled: 1 == 10_000 USD"
   ]
  },
  {
   "cell_type": "markdown",
   "id": "e323aec4",
   "metadata": {},
   "source": [
    "# Split the data"
   ]
  },
  {
   "cell_type": "code",
   "execution_count": 9,
   "id": "18b8d1d3",
   "metadata": {},
   "outputs": [],
   "source": [
    "def split_dataset(data):\n",
    "\n",
    "    df = data.copy()\n",
    "    \n",
    "    y = df['median_house_value']\n",
    "    X = df.drop('median_house_value', axis=1)\n",
    "    X_train, X_test, y_train, y_test = train_test_split(X, y, test_size=0.2, random_state=42, shuffle=True)\n",
    "    \n",
    "    return X_train, X_test, y_train, y_test"
   ]
  },
  {
   "cell_type": "code",
   "execution_count": 10,
   "id": "52cce3e7",
   "metadata": {},
   "outputs": [],
   "source": [
    "X_train, X_test, y_train, y_test = split_dataset(df)"
   ]
  },
  {
   "cell_type": "markdown",
   "id": "b6b45509",
   "metadata": {},
   "source": [
    "# Feature Engineering"
   ]
  },
  {
   "cell_type": "code",
   "execution_count": 11,
   "id": "05d1f424",
   "metadata": {},
   "outputs": [],
   "source": [
    "#use copies\n",
    "features = X_train.copy()\n",
    "labels = y_train.copy()"
   ]
  },
  {
   "cell_type": "code",
   "execution_count": 12,
   "id": "9062f305",
   "metadata": {},
   "outputs": [
    {
     "data": {
      "text/plain": [
       "<matplotlib.legend.Legend at 0x7ff2a9accc70>"
      ]
     },
     "execution_count": 12,
     "metadata": {},
     "output_type": "execute_result"
    },
    {
     "data": {
      "image/png": "[encoded data removed]",
      "text/plain": [
       "<Figure size 864x648 with 2 Axes>"
      ]
     },
     "metadata": {
      "needs_background": "light"
     },
     "output_type": "display_data"
    }
   ],
   "source": [
    "features.plot(kind='scatter', x='longitude', y='latitude', alpha=0.4, s=features['population']/100,\n",
    "             label='population', figsize=(12,9), cmap=plt.get_cmap('jet'), colorbar=True, c=labels)\n",
    "plt.legend()"
   ]
  },
  {
   "cell_type": "code",
   "execution_count": 13,
   "id": "c5580681",
   "metadata": {},
   "outputs": [
    {
     "data": {
      "text/plain": [
       "median_income         0.690647\n",
       "total_rooms           0.133989\n",
       "housing_median_age    0.103706\n",
       "households            0.063714\n",
       "total_bedrooms        0.047980\n",
       "population           -0.026032\n",
       "longitude            -0.046349\n",
       "latitude             -0.142983\n",
       "dtype: float64"
      ]
     },
     "execution_count": 13,
     "metadata": {},
     "output_type": "execute_result"
    }
   ],
   "source": [
    "features.corrwith(labels).sort_values(ascending=False)"
   ]
  },
  {
   "cell_type": "markdown",
   "id": "44b3d053",
   "metadata": {},
   "source": [
    "median_income by far the highest correlation with target as expected -> see if a stratified sample is necessary "
   ]
  },
  {
   "cell_type": "code",
   "execution_count": 14,
   "id": "ab2cb2c2",
   "metadata": {
    "scrolled": false
   },
   "outputs": [
    {
     "data": {
      "image/png": "[encoded data removed]",
      "text/plain": [
       "<Figure size 576x432 with 1 Axes>"
      ]
     },
     "metadata": {
      "needs_background": "light"
     },
     "output_type": "display_data"
    }
   ],
   "source": [
    "X_train['median_income'].hist(bins=50, figsize=(8,6))\n",
    "X_test['median_income'].hist(bins=50, figsize=(8,6))\n",
    "plt.show()"
   ]
  },
  {
   "cell_type": "code",
   "execution_count": 15,
   "id": "f0fbb9f1",
   "metadata": {
    "scrolled": true
   },
   "outputs": [
    {
     "data": {
      "text/plain": [
       "<matplotlib.collections.PathCollection at 0x7ff2a99e4f70>"
      ]
     },
     "execution_count": 15,
     "metadata": {},
     "output_type": "execute_result"
    },
    {
     "data": {
      "image/png": "[encoded data removed]",
      "text/plain": [
       "<Figure size 432x288 with 1 Axes>"
      ]
     },
     "metadata": {
      "needs_background": "light"
     },
     "output_type": "display_data"
    }
   ],
   "source": [
    "plt.scatter(features['median_income'], labels, alpha=0.1)"
   ]
  },
  {
   "cell_type": "markdown",
   "id": "7d14e534",
   "metadata": {},
   "source": [
    "Aggregated values are gonna worsen the model for real values -> remove (based on frequency)"
   ]
  },
  {
   "cell_type": "code",
   "execution_count": 16,
   "id": "bc41927c",
   "metadata": {
    "scrolled": true
   },
   "outputs": [
    {
     "data": {
      "text/plain": [
       "500001.0    786\n",
       "137500.0     93\n",
       "162500.0     89\n",
       "112500.0     82\n",
       "187500.0     73\n",
       "225000.0     69\n",
       "350000.0     66\n",
       "87500.0      61\n",
       "100000.0     53\n",
       "275000.0     53\n",
       "150000.0     48\n",
       "175000.0     48\n",
       "125000.0     46\n",
       "250000.0     41\n",
       "67500.0      39\n",
       "Name: median_house_value, dtype: int64"
      ]
     },
     "execution_count": 16,
     "metadata": {},
     "output_type": "execute_result"
    }
   ],
   "source": [
    "most = labels.value_counts()\n",
    "most.iloc[0:15]"
   ]
  },
  {
   "cell_type": "code",
   "execution_count": 17,
   "id": "11093675",
   "metadata": {},
   "outputs": [
    {
     "name": "stdout",
     "output_type": "stream",
     "text": [
      "[500001.0, 137500.0, 162500.0, 112500.0, 187500.0, 225000.0, 350000.0, 87500.0]\n"
     ]
    }
   ],
   "source": [
    "#Remove all values that appear more than 60 times\n",
    "to_remove = []  # list with median_income values to be removed\n",
    "#most is in a descending order, so when the first value (frequency) below 60 is reached no more will come\n",
    "for number in range(len(most)):\n",
    "    if most.iloc[number] > 60:\n",
    "        to_remove.append(most.index[number])\n",
    "    else:\n",
    "        break\n",
    "print(to_remove)"
   ]
  },
  {
   "cell_type": "code",
   "execution_count": 18,
   "id": "a0ad930e",
   "metadata": {},
   "outputs": [
    {
     "data": {
      "text/plain": [
       "16512"
      ]
     },
     "execution_count": 18,
     "metadata": {},
     "output_type": "execute_result"
    }
   ],
   "source": [
    "len(features)"
   ]
  },
  {
   "cell_type": "markdown",
   "id": "0eb1e24c",
   "metadata": {},
   "source": [
    "Filter the values out based on their indeces"
   ]
  },
  {
   "cell_type": "code",
   "execution_count": 19,
   "id": "e221b9b5",
   "metadata": {},
   "outputs": [],
   "source": [
    "indices_to_remove = labels[labels.isin(to_remove)].index"
   ]
  },
  {
   "cell_type": "code",
   "execution_count": 20,
   "id": "9399e566",
   "metadata": {},
   "outputs": [],
   "source": [
    "features.drop(indices_to_remove, axis=0, inplace=True)\n",
    "labels.drop(indices_to_remove, axis=0, inplace=True)"
   ]
  },
  {
   "cell_type": "code",
   "execution_count": 21,
   "id": "95872a93",
   "metadata": {},
   "outputs": [
    {
     "data": {
      "text/plain": [
       "15193"
      ]
     },
     "execution_count": 21,
     "metadata": {},
     "output_type": "execute_result"
    }
   ],
   "source": [
    "len(features)"
   ]
  },
  {
   "cell_type": "markdown",
   "id": "a744cf72",
   "metadata": {},
   "source": [
    "That works so now write a fuction and filter the real training data"
   ]
  },
  {
   "cell_type": "code",
   "execution_count": 22,
   "id": "9fd60218",
   "metadata": {},
   "outputs": [],
   "source": [
    "def remove_dublicates_abouve_60(X, y):\n",
    "    most = y.value_counts()  # descenting order\n",
    "    to_remove = []\n",
    "    for number in range(len(most)):\n",
    "        if most.iloc[number] > 60:\n",
    "            to_remove.append(most.index[number])\n",
    "        else:  # if not, stop (descending)\n",
    "            break\n",
    "\n",
    "    indices_to_remove = y[y.isin(to_remove)].index\n",
    "    \n",
    "    X.drop(indices_to_remove, axis=0, inplace=True)\n",
    "    y.drop(indices_to_remove, axis=0, inplace=True)\n",
    "    \n",
    "    return X, y"
   ]
  },
  {
   "cell_type": "code",
   "execution_count": 23,
   "id": "e93a9d09",
   "metadata": {},
   "outputs": [],
   "source": [
    "X_train, y_train = remove_dublicates_abouve_60(X=X_train, y=y_train)"
   ]
  },
  {
   "cell_type": "markdown",
   "id": "db4c49ce",
   "metadata": {},
   "source": [
    "Combine some features to get more meaningful ones & reduce the dimensionality"
   ]
  },
  {
   "cell_type": "code",
   "execution_count": 24,
   "id": "748d954b",
   "metadata": {},
   "outputs": [],
   "source": [
    "#household per population & bedrooms per room\n",
    "features['households_per_population'] = features['households'] / features['population']\n",
    "features['bedrooms_per_room'] = features['total_bedrooms'] / features['total_rooms']"
   ]
  },
  {
   "cell_type": "code",
   "execution_count": 25,
   "id": "bb87f3f7",
   "metadata": {
    "scrolled": true
   },
   "outputs": [
    {
     "data": {
      "text/html": [
       "<div>\n",
       "<style scoped>\n",
       "    .dataframe tbody tr th:only-of-type {\n",
       "        vertical-align: middle;\n",
       "    }\n",
       "\n",
       "    .dataframe tbody tr th {\n",
       "        vertical-align: top;\n",
       "    }\n",
       "\n",
       "    .dataframe thead th {\n",
       "        text-align: right;\n",
       "    }\n",
       "</style>\n",
       "<table border=\"1\" class=\"dataframe\">\n",
       "  <thead>\n",
       "    <tr style=\"text-align: right;\">\n",
       "      <th></th>\n",
       "      <th>longitude</th>\n",
       "      <th>latitude</th>\n",
       "      <th>housing_median_age</th>\n",
       "      <th>total_rooms</th>\n",
       "      <th>total_bedrooms</th>\n",
       "      <th>population</th>\n",
       "      <th>households</th>\n",
       "      <th>median_income</th>\n",
       "      <th>ocean_proximity</th>\n",
       "      <th>households_per_population</th>\n",
       "      <th>bedrooms_per_room</th>\n",
       "    </tr>\n",
       "  </thead>\n",
       "  <tbody>\n",
       "    <tr>\n",
       "      <th>14196</th>\n",
       "      <td>-117.03</td>\n",
       "      <td>32.71</td>\n",
       "      <td>33.0</td>\n",
       "      <td>3126.0</td>\n",
       "      <td>627.0</td>\n",
       "      <td>2300.0</td>\n",
       "      <td>623.0</td>\n",
       "      <td>3.2596</td>\n",
       "      <td>NEAR OCEAN</td>\n",
       "      <td>0.27087</td>\n",
       "      <td>0.200576</td>\n",
       "    </tr>\n",
       "  </tbody>\n",
       "</table>\n",
       "</div>"
      ],
      "text/plain": [
       "       longitude  latitude  housing_median_age  total_rooms  total_bedrooms  \\\n",
       "14196    -117.03     32.71                33.0       3126.0           627.0   \n",
       "\n",
       "       population  households  median_income ocean_proximity  \\\n",
       "14196      2300.0       623.0         3.2596      NEAR OCEAN   \n",
       "\n",
       "       households_per_population  bedrooms_per_room  \n",
       "14196                    0.27087           0.200576  "
      ]
     },
     "execution_count": 25,
     "metadata": {},
     "output_type": "execute_result"
    }
   ],
   "source": [
    "features.head(1)"
   ]
  },
  {
   "cell_type": "code",
   "execution_count": 26,
   "id": "95726ecb",
   "metadata": {},
   "outputs": [
    {
     "data": {
      "text/plain": [
       "median_income                0.654255\n",
       "households_per_population    0.245017\n",
       "total_rooms                  0.144140\n",
       "households                   0.094031\n",
       "total_bedrooms               0.074207\n",
       "housing_median_age           0.059325\n",
       "population                   0.009114\n",
       "longitude                   -0.043531\n",
       "latitude                    -0.152367\n",
       "bedrooms_per_room           -0.238353\n",
       "dtype: float64"
      ]
     },
     "execution_count": 26,
     "metadata": {},
     "output_type": "execute_result"
    }
   ],
   "source": [
    "features.corrwith(labels).sort_values(ascending=False)"
   ]
  },
  {
   "cell_type": "markdown",
   "id": "536defe2",
   "metadata": {},
   "source": [
    "Significantly higher correlation -> use combinded attributes and remove the features"
   ]
  },
  {
   "cell_type": "code",
   "execution_count": 29,
   "id": "898f9f1a",
   "metadata": {},
   "outputs": [],
   "source": [
    "def preprocess(X):\n",
    "    \n",
    "    X['households_per_population'] = X['households'] / X['population']\n",
    "    X['bedrooms_per_room'] = X['total_bedrooms'] / X['total_rooms']\n",
    "    \n",
    "    X.drop(['households', 'population', 'total_bedrooms', 'total_rooms'], axis=1, inplace=True)\n",
    "    \n",
    "    return X"
   ]
  },
  {
   "cell_type": "code",
   "execution_count": 30,
   "id": "1a4674eb",
   "metadata": {},
   "outputs": [],
   "source": [
    "X_train = preprocess(X_train)"
   ]
  },
  {
   "cell_type": "code",
   "execution_count": 31,
   "id": "0e49fe64",
   "metadata": {},
   "outputs": [
    {
     "data": {
      "text/plain": [
       "Index(['longitude', 'latitude', 'housing_median_age', 'median_income',\n",
       "       'ocean_proximity', 'households_per_population', 'bedrooms_per_room'],\n",
       "      dtype='object')"
      ]
     },
     "execution_count": 31,
     "metadata": {},
     "output_type": "execute_result"
    }
   ],
   "source": [
    "X_train.columns"
   ]
  },
  {
   "cell_type": "markdown",
   "id": "4d5c75b2",
   "metadata": {},
   "source": [
    "# Build a preprocessing pipeline"
   ]
  },
  {
   "cell_type": "code",
   "execution_count": 33,
   "id": "9e3d7c43",
   "metadata": {},
   "outputs": [],
   "source": [
    "num_attribs = ['longitude', 'latitude', 'housing_median_age', 'median_income',\n",
    "               'households_per_population', 'bedrooms_per_room']\n",
    "cat_attribs = ['ocean_proximity']"
   ]
  },
  {
   "cell_type": "code",
   "execution_count": 34,
   "id": "500212ba",
   "metadata": {},
   "outputs": [],
   "source": [
    "num_pipeline = Pipeline([\n",
    "    ('Imputer_num', SimpleImputer(strategy='median')),  # fill total_bedrooms\n",
    "    ('Standardize_num', StandardScaler())\n",
    "])"
   ]
  },
  {
   "cell_type": "code",
   "execution_count": 35,
   "id": "97ffac4f",
   "metadata": {},
   "outputs": [],
   "source": [
    "cat_pipeline = Pipeline([\n",
    "    ('Imputer_cat', SimpleImputer(strategy='most_frequent')),  # for missing features in the future\n",
    "    ('OneHotEncoding_cat', OneHotEncoder(sparse=False))  # return array not sparse matrix\n",
    "])"
   ]
  },
  {
   "cell_type": "code",
   "execution_count": 36,
   "id": "c626b068",
   "metadata": {},
   "outputs": [],
   "source": [
    "preprocess_pipeline = ColumnTransformer([\n",
    "    ('Num_pipeline', num_pipeline, num_attribs),\n",
    "    ('Cat_pipeline', cat_pipeline, cat_attribs)\n",
    "])"
   ]
  },
  {
   "cell_type": "code",
   "execution_count": 37,
   "id": "1c7375f4",
   "metadata": {},
   "outputs": [
    {
     "data": {
      "text/plain": [
       "Index(['longitude', 'latitude', 'housing_median_age', 'median_income',\n",
       "       'ocean_proximity', 'households_per_population', 'bedrooms_per_room'],\n",
       "      dtype='object')"
      ]
     },
     "execution_count": 37,
     "metadata": {},
     "output_type": "execute_result"
    }
   ],
   "source": [
    "X_train.columns"
   ]
  },
  {
   "cell_type": "code",
   "execution_count": 38,
   "id": "b8851a02",
   "metadata": {},
   "outputs": [],
   "source": [
    "X_train = preprocess_pipeline.fit_transform(X_train)"
   ]
  },
  {
   "cell_type": "code",
   "execution_count": 39,
   "id": "00d53629",
   "metadata": {},
   "outputs": [
    {
     "data": {
      "text/plain": [
       "array([ 1.26477069, -1.37085496,  0.37681458, -0.29069582, -1.00351422,\n",
       "       -0.22591125,  0.        ,  0.        ,  0.        ,  0.        ,\n",
       "        1.        ])"
      ]
     },
     "execution_count": 39,
     "metadata": {},
     "output_type": "execute_result"
    }
   ],
   "source": [
    "X_train[0]"
   ]
  },
  {
   "cell_type": "code",
   "execution_count": 40,
   "id": "265532ac",
   "metadata": {},
   "outputs": [
    {
     "data": {
      "text/plain": [
       "(15193, 11)"
      ]
     },
     "execution_count": 40,
     "metadata": {},
     "output_type": "execute_result"
    }
   ],
   "source": [
    "X_train.shape"
   ]
  },
  {
   "cell_type": "code",
   "execution_count": 41,
   "id": "9d657dc6",
   "metadata": {},
   "outputs": [],
   "source": [
    "y_train = np.array(y_train)"
   ]
  },
  {
   "cell_type": "code",
   "execution_count": 42,
   "id": "27e3bf87",
   "metadata": {},
   "outputs": [
    {
     "data": {
      "text/plain": [
       "array([103000., 382100., 172600., ..., 222100., 283500., 325000.])"
      ]
     },
     "execution_count": 42,
     "metadata": {},
     "output_type": "execute_result"
    }
   ],
   "source": [
    "y_train"
   ]
  },
  {
   "cell_type": "markdown",
   "id": "04851728",
   "metadata": {},
   "source": [
    "# Trying different models and tune hyperparameters"
   ]
  },
  {
   "cell_type": "markdown",
   "id": "6ed7b0d7",
   "metadata": {},
   "source": [
    "1) Linear Regression"
   ]
  },
  {
   "cell_type": "code",
   "execution_count": 43,
   "id": "c018e271",
   "metadata": {},
   "outputs": [],
   "source": [
    "lin_reg = LinearRegression()"
   ]
  },
  {
   "cell_type": "code",
   "execution_count": 44,
   "id": "d0847c1b",
   "metadata": {},
   "outputs": [
    {
     "data": {
      "text/plain": [
       "LinearRegression()"
      ]
     },
     "execution_count": 44,
     "metadata": {},
     "output_type": "execute_result"
    }
   ],
   "source": [
    "lin_reg.fit(X_train, y_train)"
   ]
  },
  {
   "cell_type": "code",
   "execution_count": 45,
   "id": "ffe5dee0",
   "metadata": {},
   "outputs": [],
   "source": [
    "lin_reg_pred = lin_reg.predict(X_train)"
   ]
  },
  {
   "cell_type": "code",
   "execution_count": 46,
   "id": "17056e9c",
   "metadata": {},
   "outputs": [],
   "source": [
    "lin_mse = mean_squared_error(y_train, lin_reg_pred)"
   ]
  },
  {
   "cell_type": "code",
   "execution_count": 47,
   "id": "10b090a0",
   "metadata": {},
   "outputs": [],
   "source": [
    "lin_rmse = np.sqrt(lin_mse)"
   ]
  },
  {
   "cell_type": "code",
   "execution_count": 48,
   "id": "82b24488",
   "metadata": {},
   "outputs": [
    {
     "data": {
      "text/plain": [
       "57598.98929551262"
      ]
     },
     "execution_count": 48,
     "metadata": {},
     "output_type": "execute_result"
    }
   ],
   "source": [
    "lin_rmse"
   ]
  },
  {
   "cell_type": "markdown",
   "id": "b95d8df0",
   "metadata": {},
   "source": [
    "2) Support Vector Regression"
   ]
  },
  {
   "cell_type": "code",
   "execution_count": 49,
   "id": "75ddd6ae",
   "metadata": {},
   "outputs": [],
   "source": [
    "svr = SVR()"
   ]
  },
  {
   "cell_type": "code",
   "execution_count": 50,
   "id": "e122c0ba",
   "metadata": {},
   "outputs": [],
   "source": [
    "svr_params = [\n",
    "    {'kernel': ['linear', 'poly', 'rbf', 'sigmoid'],\n",
    "     'degree': [1, 2, 3, 4],\n",
    "     'C': [1.0, 10, 100, 1_000]}\n",
    "]"
   ]
  },
  {
   "cell_type": "code",
   "execution_count": 51,
   "id": "bfc2ad3f",
   "metadata": {},
   "outputs": [],
   "source": [
    "svr_search = RandomizedSearchCV(svr, svr_params, cv=5, scoring='neg_mean_squared_error')"
   ]
  },
  {
   "cell_type": "code",
   "execution_count": 53,
   "id": "9c9d8073",
   "metadata": {
    "scrolled": true
   },
   "outputs": [
    {
     "name": "stdout",
     "output_type": "stream",
     "text": [
      "Fitting 5 folds for each of 10 candidates, totalling 50 fits\n",
      "[CV 1/5; 1/10] START C=1.0, degree=1, epsilon=0, kernel=poly....................\n",
      "[CV 1/5; 1/10] END C=1.0, degree=1, epsilon=0, kernel=poly;, score=(train=-9814582899.437, test=-9883473800.174) total time=   3.7s\n",
      "[CV 2/5; 1/10] START C=1.0, degree=1, epsilon=0, kernel=poly....................\n",
      "[CV 2/5; 1/10] END C=1.0, degree=1, epsilon=0, kernel=poly;, score=(train=-9860347610.225, test=-9681857531.779) total time=   3.6s\n",
      "[CV 3/5; 1/10] START C=1.0, degree=1, epsilon=0, kernel=poly....................\n",
      "[CV 3/5; 1/10] END C=1.0, degree=1, epsilon=0, kernel=poly;, score=(train=-9839725140.278, test=-9633352029.921) total time=   3.6s\n",
      "[CV 4/5; 1/10] START C=1.0, degree=1, epsilon=0, kernel=poly....................\n",
      "[CV 4/5; 1/10] END C=1.0, degree=1, epsilon=0, kernel=poly;, score=(train=-9758142376.616, test=-9916555760.698) total time=   3.6s\n",
      "[CV 5/5; 1/10] START C=1.0, degree=1, epsilon=0, kernel=poly....................\n",
      "[CV 5/5; 1/10] END C=1.0, degree=1, epsilon=0, kernel=poly;, score=(train=-9775533927.935, test=-9937811308.615) total time=   3.6s\n",
      "[CV 1/5; 2/10] START C=1000, degree=3, epsilon=0.1, kernel=rbf..................\n",
      "[CV 1/5; 2/10] END C=1000, degree=3, epsilon=0.1, kernel=rbf;, score=(train=-3304465398.892, test=-3353737502.621) total time=   4.5s\n",
      "[CV 2/5; 2/10] START C=1000, degree=3, epsilon=0.1, kernel=rbf..................\n",
      "[CV 2/5; 2/10] END C=1000, degree=3, epsilon=0.1, kernel=rbf;, score=(train=-3341278003.130, test=-3234942986.768) total time=   4.4s\n",
      "[CV 3/5; 2/10] START C=1000, degree=3, epsilon=0.1, kernel=rbf..................\n",
      "[CV 3/5; 2/10] END C=1000, degree=3, epsilon=0.1, kernel=rbf;, score=(train=-3354163632.743, test=-3157328778.258) total time=   4.5s\n",
      "[CV 4/5; 2/10] START C=1000, degree=3, epsilon=0.1, kernel=rbf..................\n",
      "[CV 4/5; 2/10] END C=1000, degree=3, epsilon=0.1, kernel=rbf;, score=(train=-3292597619.538, test=-3379860750.897) total time=   4.5s\n",
      "[CV 5/5; 2/10] START C=1000, degree=3, epsilon=0.1, kernel=rbf..................\n",
      "[CV 5/5; 2/10] END C=1000, degree=3, epsilon=0.1, kernel=rbf;, score=(train=-3224628477.003, test=-3493247476.851) total time=   4.5s\n",
      "[CV 1/5; 3/10] START C=1.0, degree=3, epsilon=0.1, kernel=linear................\n",
      "[CV 1/5; 3/10] END C=1.0, degree=3, epsilon=0.1, kernel=linear;, score=(train=-8827014508.050, test=-8898516242.303) total time=   3.5s\n",
      "[CV 2/5; 3/10] START C=1.0, degree=3, epsilon=0.1, kernel=linear................\n",
      "[CV 2/5; 3/10] END C=1.0, degree=3, epsilon=0.1, kernel=linear;, score=(train=-8868455784.328, test=-8707876161.731) total time=   3.5s\n",
      "[CV 3/5; 3/10] START C=1.0, degree=3, epsilon=0.1, kernel=linear................\n",
      "[CV 3/5; 3/10] END C=1.0, degree=3, epsilon=0.1, kernel=linear;, score=(train=-8856233884.847, test=-8645416068.475) total time=   3.5s\n",
      "[CV 4/5; 3/10] START C=1.0, degree=3, epsilon=0.1, kernel=linear................\n",
      "[CV 4/5; 3/10] END C=1.0, degree=3, epsilon=0.1, kernel=linear;, score=(train=-8768440661.836, test=-8916113829.795) total time=   3.6s\n",
      "[CV 5/5; 3/10] START C=1.0, degree=3, epsilon=0.1, kernel=linear................\n",
      "[CV 5/5; 3/10] END C=1.0, degree=3, epsilon=0.1, kernel=linear;, score=(train=-8787798190.092, test=-8946780184.258) total time=   3.5s\n",
      "[CV 1/5; 4/10] START C=1000, degree=4, epsilon=0, kernel=poly...................\n",
      "[CV 1/5; 4/10] END C=1000, degree=4, epsilon=0, kernel=poly;, score=(train=-4545033700.827, test=-4839249334.393) total time=   3.8s\n",
      "[CV 2/5; 4/10] START C=1000, degree=4, epsilon=0, kernel=poly...................\n",
      "[CV 2/5; 4/10] END C=1000, degree=4, epsilon=0, kernel=poly;, score=(train=-4581757141.031, test=-4747113894.483) total time=   3.8s\n",
      "[CV 3/5; 4/10] START C=1000, degree=4, epsilon=0, kernel=poly...................\n",
      "[CV 3/5; 4/10] END C=1000, degree=4, epsilon=0, kernel=poly;, score=(train=-4587533049.117, test=-4697561562.106) total time=   3.8s\n",
      "[CV 4/5; 4/10] START C=1000, degree=4, epsilon=0, kernel=poly...................\n",
      "[CV 4/5; 4/10] END C=1000, degree=4, epsilon=0, kernel=poly;, score=(train=-4569783871.152, test=-4691892869.621) total time=   3.8s\n",
      "[CV 5/5; 4/10] START C=1000, degree=4, epsilon=0, kernel=poly...................\n",
      "[CV 5/5; 4/10] END C=1000, degree=4, epsilon=0, kernel=poly;, score=(train=-4554052014.016, test=-17726139392.665) total time=   3.8s\n",
      "[CV 1/5; 5/10] START C=1000, degree=3, epsilon=0, kernel=poly...................\n",
      "[CV 1/5; 5/10] END C=1000, degree=3, epsilon=0, kernel=poly;, score=(train=-4538930838.848, test=-4309151940.050) total time=   3.5s\n",
      "[CV 2/5; 5/10] START C=1000, degree=3, epsilon=0, kernel=poly...................\n",
      "[CV 2/5; 5/10] END C=1000, degree=3, epsilon=0, kernel=poly;, score=(train=-4500117278.537, test=-4505574233.876) total time=   3.5s\n",
      "[CV 3/5; 5/10] START C=1000, degree=3, epsilon=0, kernel=poly...................\n",
      "[CV 3/5; 5/10] END C=1000, degree=3, epsilon=0, kernel=poly;, score=(train=-4556344069.927, test=-4302010554.275) total time=   3.5s\n",
      "[CV 4/5; 5/10] START C=1000, degree=3, epsilon=0, kernel=poly...................\n",
      "[CV 4/5; 5/10] END C=1000, degree=3, epsilon=0, kernel=poly;, score=(train=-4369604557.368, test=-5019451599.052) total time=   3.6s\n",
      "[CV 5/5; 5/10] START C=1000, degree=3, epsilon=0, kernel=poly...................\n",
      "[CV 5/5; 5/10] END C=1000, degree=3, epsilon=0, kernel=poly;, score=(train=-4447559054.780, test=-5340325943.809) total time=   3.5s\n",
      "[CV 1/5; 6/10] START C=100, degree=2, epsilon=0, kernel=linear..................\n",
      "[CV 1/5; 6/10] END C=100, degree=2, epsilon=0, kernel=linear;, score=(train=-3532728185.082, test=-3543231038.639) total time=   3.4s\n",
      "[CV 2/5; 6/10] START C=100, degree=2, epsilon=0, kernel=linear..................\n",
      "[CV 2/5; 6/10] END C=100, degree=2, epsilon=0, kernel=linear;, score=(train=-3555843381.394, test=-3453385768.312) total time=   3.3s\n",
      "[CV 3/5; 6/10] START C=100, degree=2, epsilon=0, kernel=linear..................\n",
      "[CV 3/5; 6/10] END C=100, degree=2, epsilon=0, kernel=linear;, score=(train=-3574826902.930, test=-3339927247.799) total time=   3.2s\n",
      "[CV 4/5; 6/10] START C=100, degree=2, epsilon=0, kernel=linear..................\n",
      "[CV 4/5; 6/10] END C=100, degree=2, epsilon=0, kernel=linear;, score=(train=-3503218426.559, test=-3638556331.609) total time=   3.3s\n",
      "[CV 5/5; 6/10] START C=100, degree=2, epsilon=0, kernel=linear..................\n",
      "[CV 5/5; 6/10] END C=100, degree=2, epsilon=0, kernel=linear;, score=(train=-3454600621.586, test=-3663584203.374) total time=   3.3s\n",
      "[CV 1/5; 7/10] START C=10, degree=1, epsilon=0.1, kernel=poly...................\n",
      "[CV 1/5; 7/10] END C=10, degree=1, epsilon=0.1, kernel=poly;, score=(train=-8374129617.131, test=-8446083527.524) total time=   3.6s\n",
      "[CV 2/5; 7/10] START C=10, degree=1, epsilon=0.1, kernel=poly...................\n",
      "[CV 2/5; 7/10] END C=10, degree=1, epsilon=0.1, kernel=poly;, score=(train=-8410541614.019, test=-8256383047.788) total time=   3.6s\n",
      "[CV 3/5; 7/10] START C=10, degree=1, epsilon=0.1, kernel=poly...................\n",
      "[CV 3/5; 7/10] END C=10, degree=1, epsilon=0.1, kernel=poly;, score=(train=-8403774841.098, test=-8191722434.176) total time=   3.6s\n",
      "[CV 4/5; 7/10] START C=10, degree=1, epsilon=0.1, kernel=poly...................\n",
      "[CV 4/5; 7/10] END C=10, degree=1, epsilon=0.1, kernel=poly;, score=(train=-8313758188.725, test=-8457239271.985) total time=   3.6s\n",
      "[CV 5/5; 7/10] START C=10, degree=1, epsilon=0.1, kernel=poly...................\n",
      "[CV 5/5; 7/10] END C=10, degree=1, epsilon=0.1, kernel=poly;, score=(train=-8333757370.708, test=-8491551652.539) total time=   3.6s\n",
      "[CV 1/5; 8/10] START C=100, degree=3, epsilon=0, kernel=sigmoid.................\n",
      "[CV 1/5; 8/10] END C=100, degree=3, epsilon=0, kernel=sigmoid;, score=(train=-4670346533.334, test=-4694354240.001) total time=   6.9s\n",
      "[CV 2/5; 8/10] START C=100, degree=3, epsilon=0, kernel=sigmoid.................\n",
      "[CV 2/5; 8/10] END C=100, degree=3, epsilon=0, kernel=sigmoid;, score=(train=-4666440928.138, test=-4567988640.656) total time=   7.0s\n",
      "[CV 3/5; 8/10] START C=100, degree=3, epsilon=0, kernel=sigmoid.................\n",
      "[CV 3/5; 8/10] END C=100, degree=3, epsilon=0, kernel=sigmoid;, score=(train=-4711483251.806, test=-4476427507.440) total time=   7.0s\n",
      "[CV 4/5; 8/10] START C=100, degree=3, epsilon=0, kernel=sigmoid.................\n"
     ]
    },
    {
     "name": "stdout",
     "output_type": "stream",
     "text": [
      "[CV 4/5; 8/10] END C=100, degree=3, epsilon=0, kernel=sigmoid;, score=(train=-4619479778.274, test=-4722925082.408) total time=   7.0s\n",
      "[CV 5/5; 8/10] START C=100, degree=3, epsilon=0, kernel=sigmoid.................\n",
      "[CV 5/5; 8/10] END C=100, degree=3, epsilon=0, kernel=sigmoid;, score=(train=-4595340162.581, test=-4802011275.656) total time=   7.0s\n",
      "[CV 1/5; 9/10] START C=100, degree=1, epsilon=0, kernel=linear..................\n",
      "[CV 1/5; 9/10] END C=100, degree=1, epsilon=0, kernel=linear;, score=(train=-3532728185.082, test=-3543231038.639) total time=   3.4s\n",
      "[CV 2/5; 9/10] START C=100, degree=1, epsilon=0, kernel=linear..................\n",
      "[CV 2/5; 9/10] END C=100, degree=1, epsilon=0, kernel=linear;, score=(train=-3555843381.394, test=-3453385768.312) total time=   3.3s\n",
      "[CV 3/5; 9/10] START C=100, degree=1, epsilon=0, kernel=linear..................\n",
      "[CV 3/5; 9/10] END C=100, degree=1, epsilon=0, kernel=linear;, score=(train=-3574826902.930, test=-3339927247.799) total time=   3.3s\n",
      "[CV 4/5; 9/10] START C=100, degree=1, epsilon=0, kernel=linear..................\n",
      "[CV 4/5; 9/10] END C=100, degree=1, epsilon=0, kernel=linear;, score=(train=-3503218426.559, test=-3638556331.609) total time=   3.3s\n",
      "[CV 5/5; 9/10] START C=100, degree=1, epsilon=0, kernel=linear..................\n",
      "[CV 5/5; 9/10] END C=100, degree=1, epsilon=0, kernel=linear;, score=(train=-3454600621.586, test=-3663584203.374) total time=   3.2s\n",
      "[CV 1/5; 10/10] START C=100, degree=3, epsilon=0.1, kernel=poly.................\n",
      "[CV 1/5; 10/10] END C=100, degree=3, epsilon=0.1, kernel=poly;, score=(train=-6005135999.883, test=-5838590977.915) total time=   3.6s\n",
      "[CV 2/5; 10/10] START C=100, degree=3, epsilon=0.1, kernel=poly.................\n",
      "[CV 2/5; 10/10] END C=100, degree=3, epsilon=0.1, kernel=poly;, score=(train=-5988999444.198, test=-5756973289.705) total time=   3.7s\n",
      "[CV 3/5; 10/10] START C=100, degree=3, epsilon=0.1, kernel=poly.................\n",
      "[CV 3/5; 10/10] END C=100, degree=3, epsilon=0.1, kernel=poly;, score=(train=-5998518091.638, test=-5692047566.324) total time=   3.6s\n",
      "[CV 4/5; 10/10] START C=100, degree=3, epsilon=0.1, kernel=poly.................\n",
      "[CV 4/5; 10/10] END C=100, degree=3, epsilon=0.1, kernel=poly;, score=(train=-5850265637.593, test=-6288012146.804) total time=   3.7s\n",
      "[CV 5/5; 10/10] START C=100, degree=3, epsilon=0.1, kernel=poly.................\n",
      "[CV 5/5; 10/10] END C=100, degree=3, epsilon=0.1, kernel=poly;, score=(train=-5854347386.183, test=-6522086501.035) total time=   3.6s\n"
     ]
    },
    {
     "data": {
      "text/plain": [
       "RandomizedSearchCV(cv=5, estimator=SVR(),\n",
       "                   param_distributions=[{'C': [1.0, 10, 100, 1000],\n",
       "                                         'degree': [1, 2, 3, 4],\n",
       "                                         'epsilon': [0, 0.1],\n",
       "                                         'kernel': ['linear', 'poly', 'rbf',\n",
       "                                                    'sigmoid']}],\n",
       "                   return_train_score=True, scoring='neg_mean_squared_error',\n",
       "                   verbose=10)"
      ]
     },
     "execution_count": 53,
     "metadata": {},
     "output_type": "execute_result"
    }
   ],
   "source": [
    "svr_search.fit(X_train, y_train)"
   ]
  },
  {
   "cell_type": "code",
   "execution_count": 54,
   "id": "29fa7e28",
   "metadata": {},
   "outputs": [
    {
     "data": {
      "text/plain": [
       "{'kernel': 'rbf', 'epsilon': 0.1, 'degree': 3, 'C': 1000}"
      ]
     },
     "execution_count": 54,
     "metadata": {},
     "output_type": "execute_result"
    }
   ],
   "source": [
    "svr_search.best_params_"
   ]
  },
  {
   "cell_type": "code",
   "execution_count": 55,
   "id": "a1aa1d82",
   "metadata": {},
   "outputs": [
    {
     "data": {
      "text/plain": [
       "-3323823499.0790243"
      ]
     },
     "execution_count": 55,
     "metadata": {},
     "output_type": "execute_result"
    }
   ],
   "source": [
    "svr_search.best_score_"
   ]
  },
  {
   "cell_type": "code",
   "execution_count": 56,
   "id": "f18c0423",
   "metadata": {},
   "outputs": [],
   "source": [
    "svr_rmse = np.sqrt(-svr_search.best_score_)"
   ]
  },
  {
   "cell_type": "code",
   "execution_count": 57,
   "id": "5e9c7391",
   "metadata": {},
   "outputs": [
    {
     "data": {
      "text/plain": [
       "57652.61051400036"
      ]
     },
     "execution_count": 57,
     "metadata": {},
     "output_type": "execute_result"
    }
   ],
   "source": [
    "svr_rmse"
   ]
  },
  {
   "cell_type": "code",
   "execution_count": 59,
   "id": "c0f2cd6a",
   "metadata": {},
   "outputs": [],
   "source": [
    "svr_params_2 = [\n",
    "    {'kernel': ['rbf'],\n",
    "     'degree': [3],\n",
    "     'C': [300, 500, 700, 850, 1_000, 1_250, 1_500, 2_000, 3_000, 5_000]}\n",
    "]"
   ]
  },
  {
   "cell_type": "code",
   "execution_count": 60,
   "id": "7e9cedb8",
   "metadata": {},
   "outputs": [],
   "source": [
    "svr_2 = SVR()"
   ]
  },
  {
   "cell_type": "code",
   "execution_count": 62,
   "id": "9db1faec",
   "metadata": {},
   "outputs": [],
   "source": [
    "svr_search_2 = RandomizedSearchCV(svr_2, svr_params_2, cv=5, scoring='neg_mean_squared_error')"
   ]
  },
  {
   "cell_type": "code",
   "execution_count": 63,
   "id": "30771798",
   "metadata": {},
   "outputs": [
    {
     "data": {
      "text/plain": [
       "RandomizedSearchCV(cv=5, estimator=SVR(),\n",
       "                   param_distributions=[{'C': [300, 500, 700, 850, 1000, 1250,\n",
       "                                               1500, 2000, 3000, 5000],\n",
       "                                         'degree': [3], 'kernel': ['rbf']}],\n",
       "                   return_train_score=True, scoring='neg_mean_squared_error')"
      ]
     },
     "execution_count": 63,
     "metadata": {},
     "output_type": "execute_result"
    }
   ],
   "source": [
    "svr_search_2.fit(X_train, y_train)"
   ]
  },
  {
   "cell_type": "code",
   "execution_count": 64,
   "id": "0ccaa889",
   "metadata": {},
   "outputs": [
    {
     "data": {
      "text/plain": [
       "{'kernel': 'rbf', 'degree': 3, 'C': 5000}"
      ]
     },
     "execution_count": 64,
     "metadata": {},
     "output_type": "execute_result"
    }
   ],
   "source": [
    "svr_search_2.best_params_"
   ]
  },
  {
   "cell_type": "code",
   "execution_count": 65,
   "id": "e309775c",
   "metadata": {},
   "outputs": [],
   "source": [
    "svr_2_rmse = np.sqrt(-svr_search_2.best_score_)"
   ]
  },
  {
   "cell_type": "code",
   "execution_count": 66,
   "id": "1ce862a4",
   "metadata": {},
   "outputs": [
    {
     "data": {
      "text/plain": [
       "52643.22123031386"
      ]
     },
     "execution_count": 66,
     "metadata": {},
     "output_type": "execute_result"
    }
   ],
   "source": [
    "svr_2_rmse"
   ]
  },
  {
   "cell_type": "code",
   "execution_count": 69,
   "id": "1eb3dcb4",
   "metadata": {},
   "outputs": [],
   "source": [
    "svr_params_3 = [\n",
    "    {'kernel': ['rbf'],\n",
    "     'degree': [3],\n",
    "     'C': [4_000, 5_000, 10_000, 20_000, 100_000]}\n",
    "]"
   ]
  },
  {
   "cell_type": "code",
   "execution_count": 68,
   "id": "ab087ba0",
   "metadata": {},
   "outputs": [],
   "source": [
    "svr_3 = SVR()"
   ]
  },
  {
   "cell_type": "code",
   "execution_count": 70,
   "id": "6f1f307e",
   "metadata": {},
   "outputs": [],
   "source": [
    "svr_search_3 = GridSearchCV(svr_3, svr_params_3, cv=5, scoring='neg_mean_squared_error')"
   ]
  },
  {
   "cell_type": "code",
   "execution_count": 71,
   "id": "c73afa05",
   "metadata": {},
   "outputs": [
    {
     "data": {
      "text/plain": [
       "GridSearchCV(cv=5, estimator=SVR(),\n",
       "             param_grid=[{'C': [4000, 5000, 10000, 20000, 100000],\n",
       "                          'degree': [3], 'kernel': ['rbf']}],\n",
       "             return_train_score=True, scoring='neg_mean_squared_error')"
      ]
     },
     "execution_count": 71,
     "metadata": {},
     "output_type": "execute_result"
    }
   ],
   "source": [
    "svr_search_3.fit(X_train, y_train)"
   ]
  },
  {
   "cell_type": "code",
   "execution_count": 72,
   "id": "73be63a4",
   "metadata": {},
   "outputs": [
    {
     "data": {
      "text/plain": [
       "{'C': 100000, 'degree': 3, 'kernel': 'rbf'}"
      ]
     },
     "execution_count": 72,
     "metadata": {},
     "output_type": "execute_result"
    }
   ],
   "source": [
    "svr_search_3.best_params_"
   ]
  },
  {
   "cell_type": "code",
   "execution_count": 73,
   "id": "3aefbee2",
   "metadata": {},
   "outputs": [],
   "source": [
    "svr_3_rmse = np.sqrt(-svr_search_3.best_score_)"
   ]
  },
  {
   "cell_type": "code",
   "execution_count": 74,
   "id": "516ae7e7",
   "metadata": {},
   "outputs": [
    {
     "data": {
      "text/plain": [
       "48841.960733809436"
      ]
     },
     "execution_count": 74,
     "metadata": {},
     "output_type": "execute_result"
    }
   ],
   "source": [
    "svr_3_rmse"
   ]
  },
  {
   "cell_type": "code",
   "execution_count": 79,
   "id": "98ba5fd8",
   "metadata": {},
   "outputs": [],
   "source": [
    "svr_params_4 = [\n",
    "    {'kernel': ['rbf'],\n",
    "     'degree': [3],\n",
    "     'C': [50_000, 75_000, 100_000, 150_000]}\n",
    "]"
   ]
  },
  {
   "cell_type": "code",
   "execution_count": 80,
   "id": "5aff4e47",
   "metadata": {},
   "outputs": [],
   "source": [
    "svr_4 = SVR()"
   ]
  },
  {
   "cell_type": "code",
   "execution_count": 81,
   "id": "f616920f",
   "metadata": {},
   "outputs": [],
   "source": [
    "svr_search_4 = GridSearchCV(svr_4, svr_params_4, cv=5, scoring='neg_mean_squared_error')"
   ]
  },
  {
   "cell_type": "code",
   "execution_count": 82,
   "id": "5c23ba87",
   "metadata": {},
   "outputs": [
    {
     "data": {
      "text/plain": [
       "GridSearchCV(cv=5, estimator=SVR(),\n",
       "             param_grid=[{'C': [50000, 75000, 100000, 150000], 'degree': [3],\n",
       "                          'kernel': ['rbf']}],\n",
       "             return_train_score=True, scoring='neg_mean_squared_error')"
      ]
     },
     "execution_count": 82,
     "metadata": {},
     "output_type": "execute_result"
    }
   ],
   "source": [
    "svr_search_4.fit(X_train, y_train)"
   ]
  },
  {
   "cell_type": "code",
   "execution_count": 83,
   "id": "b539a5fd",
   "metadata": {},
   "outputs": [
    {
     "data": {
      "text/plain": [
       "{'C': 150000, 'degree': 3, 'kernel': 'rbf'}"
      ]
     },
     "execution_count": 83,
     "metadata": {},
     "output_type": "execute_result"
    }
   ],
   "source": [
    "svr_search_4.best_params_"
   ]
  },
  {
   "cell_type": "code",
   "execution_count": 84,
   "id": "da9ead3d",
   "metadata": {},
   "outputs": [],
   "source": [
    "svr_4_rmse = np.sqrt(-svr_search_4.best_score_)"
   ]
  },
  {
   "cell_type": "code",
   "execution_count": 85,
   "id": "b875f769",
   "metadata": {},
   "outputs": [
    {
     "data": {
      "text/plain": [
       "48462.94780358047"
      ]
     },
     "execution_count": 85,
     "metadata": {},
     "output_type": "execute_result"
    }
   ],
   "source": [
    "svr_4_rmse"
   ]
  },
  {
   "cell_type": "code",
   "execution_count": 103,
   "id": "3ac1e937",
   "metadata": {},
   "outputs": [],
   "source": [
    "svr_best = SVR(kernel='rbf', degree=3, C=150_000)"
   ]
  },
  {
   "cell_type": "code",
   "execution_count": 104,
   "id": "99371c6c",
   "metadata": {},
   "outputs": [
    {
     "data": {
      "text/plain": [
       "SVR(C=150000)"
      ]
     },
     "execution_count": 104,
     "metadata": {},
     "output_type": "execute_result"
    }
   ],
   "source": [
    "svr_best.fit(X_train, y_train)"
   ]
  },
  {
   "cell_type": "code",
   "execution_count": 115,
   "id": "c7caabef",
   "metadata": {},
   "outputs": [
    {
     "data": {
      "text/plain": [
       "['SVR_best_model.joblib']"
      ]
     },
     "execution_count": 115,
     "metadata": {},
     "output_type": "execute_result"
    }
   ],
   "source": [
    "joblib.dump(svr_best, 'SVR_best_model.joblib')"
   ]
  },
  {
   "cell_type": "markdown",
   "id": "4c86c380",
   "metadata": {},
   "source": [
    "3) Dicision Tree Regressor"
   ]
  },
  {
   "cell_type": "code",
   "execution_count": 86,
   "id": "c4874cb8",
   "metadata": {},
   "outputs": [],
   "source": [
    "dtr = DecisionTreeRegressor()"
   ]
  },
  {
   "cell_type": "code",
   "execution_count": 87,
   "id": "e0273169",
   "metadata": {},
   "outputs": [],
   "source": [
    "dtr_params = [\n",
    "    {\"splitter\":[\"best\",\"random\"],\n",
    "     \"max_depth\" : [None, 1, 3, 5, 7, 9, 11, 12],\n",
    "     \"min_samples_leaf\":[1,2,3,4,5,6,7,8,9,10],\n",
    "     \"min_weight_fraction_leaf\":[0.1,0.2,0.3,0.4,0.499],\n",
    "     \"max_features\":[\"auto\",\"log2\",\"sqrt\",None],\n",
    "     \"max_leaf_nodes\":[None,10,20,30,40,50,60,70,80,90]}\n",
    "]"
   ]
  },
  {
   "cell_type": "code",
   "execution_count": 88,
   "id": "1d03bb34",
   "metadata": {},
   "outputs": [],
   "source": [
    "dtr_search = RandomizedSearchCV(dtr, dtr_params, cv=5, scoring='neg_mean_squared_error', n_iter=35)"
   ]
  },
  {
   "cell_type": "code",
   "execution_count": 90,
   "id": "00e29dfb",
   "metadata": {
    "scrolled": true
   },
   "outputs": [
    {
     "data": {
      "text/plain": [
       "RandomizedSearchCV(cv=5, estimator=DecisionTreeRegressor(), n_iter=35,\n",
       "                   param_distributions=[{'max_depth': [None, 1, 3, 5, 7, 9, 11,\n",
       "                                                       12],\n",
       "                                         'max_features': ['auto', 'log2',\n",
       "                                                          'sqrt', None],\n",
       "                                         'max_leaf_nodes': [None, 10, 20, 30,\n",
       "                                                            40, 50, 60, 70, 80,\n",
       "                                                            90],\n",
       "                                         'min_samples_leaf': [1, 2, 3, 4, 5, 6,\n",
       "                                                              7, 8, 9, 10],\n",
       "                                         'min_weight_fraction_leaf': [0.1, 0.2,\n",
       "                                                                      0.3, 0.4,\n",
       "                                                                      0.499],\n",
       "                                         'splitter': ['best', 'random']}],\n",
       "                   return_train_score=True, scoring='neg_mean_squared_error')"
      ]
     },
     "execution_count": 90,
     "metadata": {},
     "output_type": "execute_result"
    }
   ],
   "source": [
    "dtr_search.fit(X_train, y_train)"
   ]
  },
  {
   "cell_type": "code",
   "execution_count": 91,
   "id": "8d7f0cbe",
   "metadata": {
    "scrolled": true
   },
   "outputs": [
    {
     "data": {
      "text/plain": [
       "{'splitter': 'best',\n",
       " 'min_weight_fraction_leaf': 0.1,\n",
       " 'min_samples_leaf': 1,\n",
       " 'max_leaf_nodes': 30,\n",
       " 'max_features': None,\n",
       " 'max_depth': None}"
      ]
     },
     "execution_count": 91,
     "metadata": {},
     "output_type": "execute_result"
    }
   ],
   "source": [
    "dtr_search.best_params_"
   ]
  },
  {
   "cell_type": "code",
   "execution_count": 92,
   "id": "2ae419cd",
   "metadata": {},
   "outputs": [],
   "source": [
    "dtr_best_rmse = np.sqrt(-dtr_search.best_score_)"
   ]
  },
  {
   "cell_type": "code",
   "execution_count": 94,
   "id": "ff9927b2",
   "metadata": {},
   "outputs": [
    {
     "data": {
      "text/plain": [
       "66495.24486119684"
      ]
     },
     "execution_count": 94,
     "metadata": {},
     "output_type": "execute_result"
    }
   ],
   "source": [
    "dtr_best_rmse"
   ]
  },
  {
   "cell_type": "markdown",
   "id": "5aa7afc1",
   "metadata": {},
   "source": [
    "4) Random Forest Regressor"
   ]
  },
  {
   "cell_type": "code",
   "execution_count": 95,
   "id": "1401ba2e",
   "metadata": {},
   "outputs": [],
   "source": [
    "rfr = RandomForestRegressor()"
   ]
  },
  {
   "cell_type": "code",
   "execution_count": 96,
   "id": "339b290d",
   "metadata": {},
   "outputs": [],
   "source": [
    "rfr_params = {\n",
    "    'bootstrap': [True, False],\n",
    "    'max_depth': [10, 20, 30, 40, 50, 60, 70, 80, 90, 100, None],\n",
    "    'max_features': ['auto', 'sqrt'],\n",
    "    'min_samples_leaf': [1, 2, 4],\n",
    "    'min_samples_split': [2, 5, 10],\n",
    "    'n_estimators': [200, 400, 600, 800, 1000, 1200, 1400, 1600, 1800, 2000]\n",
    "}"
   ]
  },
  {
   "cell_type": "code",
   "execution_count": 97,
   "id": "5f7a4b26",
   "metadata": {},
   "outputs": [],
   "source": [
    "rfr_search = RandomizedSearchCV(rfr, rfr_params, cv=5, scoring='neg_mean_squared_error', n_iter=30)"
   ]
  },
  {
   "cell_type": "code",
   "execution_count": 99,
   "id": "d8672653",
   "metadata": {},
   "outputs": [
    {
     "data": {
      "text/plain": [
       "RandomizedSearchCV(cv=5, estimator=RandomForestRegressor(), n_iter=30,\n",
       "                   param_distributions={'bootstrap': [True, False],\n",
       "                                        'max_depth': [10, 20, 30, 40, 50, 60,\n",
       "                                                      70, 80, 90, 100, None],\n",
       "                                        'max_features': ['auto', 'sqrt'],\n",
       "                                        'min_samples_leaf': [1, 2, 4],\n",
       "                                        'min_samples_split': [2, 5, 10],\n",
       "                                        'n_estimators': [200, 400, 600, 800,\n",
       "                                                         1000, 1200, 1400, 1600,\n",
       "                                                         1800, 2000]},\n",
       "                   scoring='neg_mean_squared_error')"
      ]
     },
     "execution_count": 99,
     "metadata": {},
     "output_type": "execute_result"
    }
   ],
   "source": [
    "rfr_search.fit(X_train, y_train)"
   ]
  },
  {
   "cell_type": "code",
   "execution_count": 100,
   "id": "eef303b8",
   "metadata": {},
   "outputs": [
    {
     "data": {
      "text/plain": [
       "{'n_estimators': 1800,\n",
       " 'min_samples_split': 2,\n",
       " 'min_samples_leaf': 1,\n",
       " 'max_features': 'sqrt',\n",
       " 'max_depth': 30,\n",
       " 'bootstrap': False}"
      ]
     },
     "execution_count": 100,
     "metadata": {},
     "output_type": "execute_result"
    }
   ],
   "source": [
    "rfr_search.best_params_"
   ]
  },
  {
   "cell_type": "code",
   "execution_count": 101,
   "id": "8a4c3ec8",
   "metadata": {},
   "outputs": [],
   "source": [
    "rfr_best_rmse = np.sqrt(-rfr_search.best_score_)"
   ]
  },
  {
   "cell_type": "code",
   "execution_count": 102,
   "id": "5b23110f",
   "metadata": {},
   "outputs": [
    {
     "data": {
      "text/plain": [
       "42331.9571944459"
      ]
     },
     "execution_count": 102,
     "metadata": {},
     "output_type": "execute_result"
    }
   ],
   "source": [
    "rfr_best_rmse"
   ]
  },
  {
   "cell_type": "code",
   "execution_count": 108,
   "id": "6ee363f3",
   "metadata": {},
   "outputs": [],
   "source": [
    "rfr_params_2 = {\n",
    "    'n_estimators': list(range(1600, 2000, 10)),\n",
    "    'min_samples_split': [1.0, 2, 3],\n",
    "    'min_samples_leaf': [1],\n",
    "    'max_features': ['sqrt'],\n",
    "    'max_depth': [25, 30, 35],\n",
    "    'bootstrap': [False]\n",
    "}"
   ]
  },
  {
   "cell_type": "code",
   "execution_count": 117,
   "id": "2fa367c5",
   "metadata": {},
   "outputs": [],
   "source": [
    "rfr_search_2 = RandomizedSearchCV(RandomForestRegressor(), rfr_params_2, cv=5, n_iter=20,\n",
    "                                  scoring='neg_mean_squared_error')"
   ]
  },
  {
   "cell_type": "code",
   "execution_count": 118,
   "id": "18a36b28",
   "metadata": {},
   "outputs": [
    {
     "data": {
      "text/plain": [
       "RandomizedSearchCV(cv=5, estimator=RandomForestRegressor(), n_iter=20,\n",
       "                   param_distributions={'bootstrap': [False],\n",
       "                                        'max_depth': [25, 30, 35],\n",
       "                                        'max_features': ['sqrt'],\n",
       "                                        'min_samples_leaf': [1],\n",
       "                                        'min_samples_split': [1.0, 2, 3],\n",
       "                                        'n_estimators': [1600, 1610, 1620, 1630,\n",
       "                                                         1640, 1650, 1660, 1670,\n",
       "                                                         1680, 1690, 1700, 1710,\n",
       "                                                         1720, 1730, 1740, 1750,\n",
       "                                                         1760, 1770, 1780, 1790,\n",
       "                                                         1800, 1810, 1820, 1830,\n",
       "                                                         1840, 1850, 1860, 1870,\n",
       "                                                         1880, 1890, ...]},\n",
       "                   scoring='neg_mean_squared_error')"
      ]
     },
     "execution_count": 118,
     "metadata": {},
     "output_type": "execute_result"
    }
   ],
   "source": [
    "rfr_search_2.fit(X_train, y_train)"
   ]
  },
  {
   "cell_type": "code",
   "execution_count": 119,
   "id": "573cdfdb",
   "metadata": {},
   "outputs": [
    {
     "data": {
      "text/plain": [
       "{'n_estimators': 1840,\n",
       " 'min_samples_split': 2,\n",
       " 'min_samples_leaf': 1,\n",
       " 'max_features': 'sqrt',\n",
       " 'max_depth': 30,\n",
       " 'bootstrap': False}"
      ]
     },
     "execution_count": 119,
     "metadata": {},
     "output_type": "execute_result"
    }
   ],
   "source": [
    "rfr_search_2.best_params_"
   ]
  },
  {
   "cell_type": "code",
   "execution_count": 120,
   "id": "ab46904d",
   "metadata": {},
   "outputs": [
    {
     "data": {
      "text/plain": [
       "-1786293811.9867072"
      ]
     },
     "execution_count": 120,
     "metadata": {},
     "output_type": "execute_result"
    }
   ],
   "source": [
    "rfr_search_2.best_score_"
   ]
  },
  {
   "cell_type": "code",
   "execution_count": 121,
   "id": "5176e7e6",
   "metadata": {},
   "outputs": [],
   "source": [
    "rfr_2_rmse = np.sqrt(-rfr_search_2.best_score_)"
   ]
  },
  {
   "cell_type": "code",
   "execution_count": 122,
   "id": "bca00131",
   "metadata": {},
   "outputs": [
    {
     "data": {
      "text/plain": [
       "42264.56922750671"
      ]
     },
     "execution_count": 122,
     "metadata": {},
     "output_type": "execute_result"
    }
   ],
   "source": [
    "rfr_2_rmse"
   ]
  },
  {
   "cell_type": "code",
   "execution_count": 123,
   "id": "e921a266",
   "metadata": {},
   "outputs": [],
   "source": [
    "rfr_best = RandomForestRegressor(\n",
    "    n_estimators=1850,\n",
    "    min_samples_split=2,\n",
    "    min_samples_leaf=1,\n",
    "    max_features='sqrt',\n",
    "    max_depth=30,\n",
    "    bootstrap=False\n",
    ")"
   ]
  },
  {
   "cell_type": "code",
   "execution_count": 124,
   "id": "300bc146",
   "metadata": {},
   "outputs": [
    {
     "data": {
      "text/plain": [
       "RandomForestRegressor(bootstrap=False, max_depth=30, max_features='sqrt',\n",
       "                      n_estimators=1850)"
      ]
     },
     "execution_count": 124,
     "metadata": {},
     "output_type": "execute_result"
    }
   ],
   "source": [
    "rfr_best.fit(X_train, y_train)"
   ]
  },
  {
   "cell_type": "code",
   "execution_count": 125,
   "id": "017fa7ee",
   "metadata": {},
   "outputs": [
    {
     "data": {
      "text/plain": [
       "['RFR_best_model.joblib']"
      ]
     },
     "execution_count": 125,
     "metadata": {},
     "output_type": "execute_result"
    }
   ],
   "source": [
    "joblib.dump(rfr_best, 'RFR_best_model.joblib')"
   ]
  },
  {
   "cell_type": "markdown",
   "id": "4d9a27d7",
   "metadata": {},
   "source": [
    "5) Gradient Boosting Regressor"
   ]
  },
  {
   "cell_type": "code",
   "execution_count": 126,
   "id": "456ae9bf",
   "metadata": {},
   "outputs": [],
   "source": [
    "gbr = GradientBoostingRegressor()"
   ]
  },
  {
   "cell_type": "code",
   "execution_count": 127,
   "id": "b19e0ac2",
   "metadata": {},
   "outputs": [],
   "source": [
    "gbr_params = {\n",
    "    'n_estimators': [200, 600, 1000, 1400, 1800, 2500],\n",
    "    'min_samples_split': [2, 5, 10],\n",
    "    'min_samples_leaf': [1, 2, 4],\n",
    "    'max_features': ['auto', 'sqrt'],\n",
    "    'max_depth': [10, 50, 90, 150]\n",
    "}"
   ]
  },
  {
   "cell_type": "code",
   "execution_count": 128,
   "id": "7f61baab",
   "metadata": {},
   "outputs": [],
   "source": [
    "gbr_search = RandomizedSearchCV(gbr, gbr_params, cv=3, scoring='neg_mean_squared_error')"
   ]
  },
  {
   "cell_type": "code",
   "execution_count": 130,
   "id": "5a61f80c",
   "metadata": {},
   "outputs": [
    {
     "data": {
      "text/plain": [
       "RandomizedSearchCV(cv=3, estimator=GradientBoostingRegressor(),\n",
       "                   param_distributions={'max_depth': [10, 50, 90, 150],\n",
       "                                        'max_features': ['auto', 'sqrt'],\n",
       "                                        'min_samples_leaf': [1, 2, 4],\n",
       "                                        'min_samples_split': [2, 5, 10],\n",
       "                                        'n_estimators': [200, 600, 1000, 1400,\n",
       "                                                         1800, 2500]},\n",
       "                   scoring='neg_mean_squared_error')"
      ]
     },
     "execution_count": 130,
     "metadata": {},
     "output_type": "execute_result"
    }
   ],
   "source": [
    "gbr_search.fit(X_train, y_train)"
   ]
  },
  {
   "cell_type": "code",
   "execution_count": 131,
   "id": "da74f54c",
   "metadata": {},
   "outputs": [
    {
     "data": {
      "text/plain": [
       "{'n_estimators': 2500,\n",
       " 'min_samples_split': 5,\n",
       " 'min_samples_leaf': 4,\n",
       " 'max_features': 'sqrt',\n",
       " 'max_depth': 10}"
      ]
     },
     "execution_count": 131,
     "metadata": {},
     "output_type": "execute_result"
    }
   ],
   "source": [
    "gbr_search.best_params_"
   ]
  },
  {
   "cell_type": "code",
   "execution_count": 140,
   "id": "b331e3fb",
   "metadata": {},
   "outputs": [
    {
     "data": {
      "text/plain": [
       "41428.32813466673"
      ]
     },
     "execution_count": 140,
     "metadata": {},
     "output_type": "execute_result"
    }
   ],
   "source": [
    "gbr_rmse = np.sqrt(-gbr_search.best_score_)\n",
    "gbr_rmse"
   ]
  },
  {
   "cell_type": "code",
   "execution_count": 132,
   "id": "81641628",
   "metadata": {},
   "outputs": [],
   "source": [
    "gbr_2 = GradientBoostingRegressor()"
   ]
  },
  {
   "cell_type": "code",
   "execution_count": 133,
   "id": "a6440029",
   "metadata": {},
   "outputs": [],
   "source": [
    "gbr_params_2 = {\n",
    "    'n_estimators': [2_500, 5_000, 50_000],\n",
    "    'min_samples_split': [5],\n",
    "    'min_samples_leaf': [4],\n",
    "    'max_features': ['sqrt'],\n",
    "    'max_depth': [5, 10, 20]\n",
    "}"
   ]
  },
  {
   "cell_type": "code",
   "execution_count": 136,
   "id": "932c07e3",
   "metadata": {},
   "outputs": [],
   "source": [
    "gbr_search_2 = GridSearchCV(gbr_2, gbr_params_2, cv=3, scoring='neg_mean_squared_error')"
   ]
  },
  {
   "cell_type": "code",
   "execution_count": 137,
   "id": "9a010101",
   "metadata": {},
   "outputs": [
    {
     "data": {
      "text/plain": [
       "GridSearchCV(cv=3, estimator=GradientBoostingRegressor(),\n",
       "             param_grid={'max_depth': [5, 10, 20], 'max_features': ['sqrt'],\n",
       "                         'min_samples_leaf': [4], 'min_samples_split': [5],\n",
       "                         'n_estimators': [2500, 5000, 50000]},\n",
       "             scoring='neg_mean_squared_error')"
      ]
     },
     "execution_count": 137,
     "metadata": {},
     "output_type": "execute_result"
    }
   ],
   "source": [
    "gbr_search_2.fit(X_train, y_train)"
   ]
  },
  {
   "cell_type": "code",
   "execution_count": 138,
   "id": "bcc4c2d6",
   "metadata": {},
   "outputs": [
    {
     "data": {
      "text/plain": [
       "{'max_depth': 5,\n",
       " 'max_features': 'sqrt',\n",
       " 'min_samples_leaf': 4,\n",
       " 'min_samples_split': 5,\n",
       " 'n_estimators': 5000}"
      ]
     },
     "execution_count": 138,
     "metadata": {},
     "output_type": "execute_result"
    }
   ],
   "source": [
    "gbr_search_2.best_params_"
   ]
  },
  {
   "cell_type": "code",
   "execution_count": 141,
   "id": "0934daf2",
   "metadata": {},
   "outputs": [
    {
     "data": {
      "text/plain": [
       "41254.44089285433"
      ]
     },
     "execution_count": 141,
     "metadata": {},
     "output_type": "execute_result"
    }
   ],
   "source": [
    "gbr_2_rmse = np.sqrt(-gbr_search_2.best_score_)\n",
    "gbr_2_rmse"
   ]
  },
  {
   "cell_type": "code",
   "execution_count": 142,
   "id": "46f15594",
   "metadata": {},
   "outputs": [],
   "source": [
    "gbr_best = GradientBoostingRegressor(\n",
    "    n_estimators = 5_000,\n",
    "    min_samples_split = 5,\n",
    "    min_samples_leaf = 4,\n",
    "    max_features = 'sqrt',\n",
    "    max_depth = 5\n",
    ")"
   ]
  },
  {
   "cell_type": "code",
   "execution_count": 143,
   "id": "69ec5fff",
   "metadata": {},
   "outputs": [
    {
     "data": {
      "text/plain": [
       "GradientBoostingRegressor(max_depth=5, max_features='sqrt', min_samples_leaf=4,\n",
       "                          min_samples_split=5, n_estimators=5000)"
      ]
     },
     "execution_count": 143,
     "metadata": {},
     "output_type": "execute_result"
    }
   ],
   "source": [
    "gbr_best.fit(X_train, y_train)"
   ]
  },
  {
   "cell_type": "code",
   "execution_count": 144,
   "id": "c8b8b9a6",
   "metadata": {},
   "outputs": [
    {
     "data": {
      "text/plain": [
       "['GBR_best_model.joblib']"
      ]
     },
     "execution_count": 144,
     "metadata": {},
     "output_type": "execute_result"
    }
   ],
   "source": [
    "joblib.dump(gbr_best, 'GBR_best_model.joblib')"
   ]
  },
  {
   "cell_type": "markdown",
   "id": "36fee945",
   "metadata": {},
   "source": [
    "6) Neural Network"
   ]
  },
  {
   "cell_type": "code",
   "execution_count": 146,
   "id": "1e0c2185",
   "metadata": {},
   "outputs": [],
   "source": [
    "def build_model(hp):\n",
    "    model = keras.models.Sequential()\n",
    "    model.add(Input(shape=X_train.shape[1:]))\n",
    "        \n",
    "    num_layers = hp.Int('Numver_of_Layers', 2, 5, 1)\n",
    "    drop_rate = hp.Float('Dropout_Rate', 0.1, 0.5, 0.1)\n",
    "        \n",
    "    for layer in range(num_layers):\n",
    "        model.add(Dense(units=hp.Int(f'{layer}_Layer_Dense_Units', 32, 256, 32)))\n",
    "        model.add(BatchNormalization())\n",
    "        model.add(Activation('relu'))\n",
    "        model.add(Dropout(rate=drop_rate))\n",
    "    \n",
    "    model.add(Dense(1, activation='relu'))  # negative prices make no sense\n",
    "    \n",
    "    LEARNING_RATE = hp.Float('Learning_Rate', 1e-5, 1e-2, sampling='log')\n",
    "    model.compile(optimizer=Adam(learning_rate=LEARNING_RATE),\n",
    "                  loss=MeanSquaredError(),\n",
    "                  metrics=[RootMeanSquaredError()])\n",
    "        \n",
    "    return model"
   ]
  },
  {
   "cell_type": "code",
   "execution_count": 147,
   "id": "2d26103f",
   "metadata": {},
   "outputs": [
    {
     "name": "stderr",
     "output_type": "stream",
     "text": [
      "2022-03-31 15:59:58.261928: I tensorflow/stream_executor/cuda/cuda_gpu_executor.cc:939] successful NUMA node read from SysFS had negative value (-1), but there must be at least one NUMA node, so returning NUMA node zero\n",
      "2022-03-31 15:59:58.283439: I tensorflow/stream_executor/cuda/cuda_gpu_executor.cc:939] successful NUMA node read from SysFS had negative value (-1), but there must be at least one NUMA node, so returning NUMA node zero\n",
      "2022-03-31 15:59:58.284257: I tensorflow/stream_executor/cuda/cuda_gpu_executor.cc:939] successful NUMA node read from SysFS had negative value (-1), but there must be at least one NUMA node, so returning NUMA node zero\n",
      "2022-03-31 15:59:58.285986: I tensorflow/core/platform/cpu_feature_guard.cc:151] This TensorFlow binary is optimized with oneAPI Deep Neural Network Library (oneDNN) to use the following CPU instructions in performance-critical operations:  AVX2 FMA\n",
      "To enable them in other operations, rebuild TensorFlow with the appropriate compiler flags.\n",
      "2022-03-31 15:59:58.287317: I tensorflow/stream_executor/cuda/cuda_gpu_executor.cc:939] successful NUMA node read from SysFS had negative value (-1), but there must be at least one NUMA node, so returning NUMA node zero\n",
      "2022-03-31 15:59:58.287817: I tensorflow/stream_executor/cuda/cuda_gpu_executor.cc:939] successful NUMA node read from SysFS had negative value (-1), but there must be at least one NUMA node, so returning NUMA node zero\n",
      "2022-03-31 15:59:58.288370: I tensorflow/stream_executor/cuda/cuda_gpu_executor.cc:939] successful NUMA node read from SysFS had negative value (-1), but there must be at least one NUMA node, so returning NUMA node zero\n",
      "2022-03-31 15:59:58.692886: I tensorflow/stream_executor/cuda/cuda_gpu_executor.cc:939] successful NUMA node read from SysFS had negative value (-1), but there must be at least one NUMA node, so returning NUMA node zero\n",
      "2022-03-31 15:59:58.693381: I tensorflow/stream_executor/cuda/cuda_gpu_executor.cc:939] successful NUMA node read from SysFS had negative value (-1), but there must be at least one NUMA node, so returning NUMA node zero\n",
      "2022-03-31 15:59:58.693839: I tensorflow/stream_executor/cuda/cuda_gpu_executor.cc:939] successful NUMA node read from SysFS had negative value (-1), but there must be at least one NUMA node, so returning NUMA node zero\n",
      "2022-03-31 15:59:58.694287: I tensorflow/core/common_runtime/gpu/gpu_device.cc:1525] Created device /job:localhost/replica:0/task:0/device:GPU:0 with 22017 MB memory:  -> device: 0, name: NVIDIA GeForce RTX 3090, pci bus id: 0000:09:00.0, compute capability: 8.6\n"
     ]
    }
   ],
   "source": [
    "tuner = kt.RandomSearch(\n",
    "    hypermodel=build_model,\n",
    "    objective='val_loss',\n",
    "    max_trials=250,\n",
    "    directory='Real_Estate_Logs_1')"
   ]
  },
  {
   "cell_type": "code",
   "execution_count": 153,
   "id": "37efb333",
   "metadata": {},
   "outputs": [
    {
     "name": "stdout",
     "output_type": "stream",
     "text": [
      "Trial 251 Complete [00h 00m 07s]\n",
      "val_loss: 47133802496.0\n",
      "\n",
      "Best val_loss So Far: 2853152768.0\n",
      "Total elapsed time: 00h 45m 56s\n",
      "INFO:tensorflow:Oracle triggered exit\n",
      "CPU times: user 58min 53s, sys: 3min 40s, total: 1h 2min 33s\n",
      "Wall time: 44min 45s\n"
     ]
    }
   ],
   "source": [
    "%%time\n",
    "tuner.search(X_train, y_train, epochs=10, batch_size=32, validation_split=0.2, callbacks=[EarlyStopping(patience=3)])"
   ]
  },
  {
   "cell_type": "code",
   "execution_count": 155,
   "id": "a8f0bfbb",
   "metadata": {},
   "outputs": [
    {
     "name": "stdout",
     "output_type": "stream",
     "text": [
      "Results summary\n",
      "Results in Real_Estate_Logs_1/untitled_project\n",
      "Showing 5 best trials\n",
      "Objective(name='val_loss', direction='min')\n",
      "Trial summary\n",
      "Hyperparameters:\n",
      "Numver_of_Layers: 2\n",
      "Dropout_Rate: 0.1\n",
      "0_Layer_Dense_Units: 192\n",
      "1_Layer_Dense_Units: 192\n",
      "Learning_Rate: 0.009411806710468915\n",
      "2_Layer_Dense_Units: 96\n",
      "3_Layer_Dense_Units: 128\n",
      "4_Layer_Dense_Units: 64\n",
      "Score: 2853152768.0\n",
      "Trial summary\n",
      "Hyperparameters:\n",
      "Numver_of_Layers: 5\n",
      "Dropout_Rate: 0.1\n",
      "0_Layer_Dense_Units: 128\n",
      "1_Layer_Dense_Units: 64\n",
      "Learning_Rate: 0.007688762092679064\n",
      "2_Layer_Dense_Units: 256\n",
      "3_Layer_Dense_Units: 160\n",
      "4_Layer_Dense_Units: 224\n",
      "Score: 2999481088.0\n",
      "Trial summary\n",
      "Hyperparameters:\n",
      "Numver_of_Layers: 3\n",
      "Dropout_Rate: 0.5\n",
      "0_Layer_Dense_Units: 160\n",
      "1_Layer_Dense_Units: 96\n",
      "Learning_Rate: 0.009761373399855767\n",
      "2_Layer_Dense_Units: 160\n",
      "3_Layer_Dense_Units: 192\n",
      "4_Layer_Dense_Units: 160\n",
      "Score: 3153096960.0\n",
      "Trial summary\n",
      "Hyperparameters:\n",
      "Numver_of_Layers: 4\n",
      "Dropout_Rate: 0.4\n",
      "0_Layer_Dense_Units: 256\n",
      "1_Layer_Dense_Units: 128\n",
      "Learning_Rate: 0.009218342078152041\n",
      "2_Layer_Dense_Units: 96\n",
      "3_Layer_Dense_Units: 160\n",
      "4_Layer_Dense_Units: 224\n",
      "Score: 3258991360.0\n",
      "Trial summary\n",
      "Hyperparameters:\n",
      "Numver_of_Layers: 4\n",
      "Dropout_Rate: 0.5\n",
      "0_Layer_Dense_Units: 256\n",
      "1_Layer_Dense_Units: 192\n",
      "Learning_Rate: 0.009134357997914587\n",
      "2_Layer_Dense_Units: 192\n",
      "3_Layer_Dense_Units: 160\n",
      "4_Layer_Dense_Units: 32\n",
      "Score: 3367914752.0\n"
     ]
    }
   ],
   "source": [
    "tuner.results_summary(5)"
   ]
  },
  {
   "cell_type": "code",
   "execution_count": 161,
   "id": "398a9f3b",
   "metadata": {},
   "outputs": [],
   "source": [
    "def build_model_2(hp):\n",
    "    model = keras.models.Sequential()\n",
    "    \n",
    "    drop_rate = hp.Float('Dropout_Rate', 0.1, 0.5, 0.1)\n",
    "    \n",
    "    model.add(Input(shape=X_train.shape[1:]))\n",
    "    \n",
    "    model.add(Dense(256))\n",
    "    model.add(BatchNormalization())\n",
    "    model.add(Activation('relu'))\n",
    "    model.add(Dropout(rate=drop_rate))\n",
    "    \n",
    "    model.add(Dense(128))\n",
    "    model.add(BatchNormalization())\n",
    "    model.add(Activation('relu'))\n",
    "    model.add(Dropout(rate=drop_rate))\n",
    "    \n",
    "    if hp.Boolean('3_Layer'):\n",
    "        model.add(Dense(units=hp.Int('3_Dense_Units', 32, 128, 32)))\n",
    "        model.add(BatchNormalization())\n",
    "        model.add(Activation('relu'))\n",
    "        model.add(Dropout(rate=drop_rate))\n",
    "    \n",
    "    if hp.Boolean('4_Layer'):    \n",
    "        model.add(Dense(units=hp.Int('4_Dense_Units', 8, 64, 8)))\n",
    "        model.add(BatchNormalization())\n",
    "        model.add(Activation('relu'))\n",
    "        model.add(Dropout(rate=drop_rate))\n",
    "        \n",
    "    model.add(Dense(1, activation='relu'))\n",
    "    \n",
    "    model.compile(optimizer=Adam(learning_rate=0.009),\n",
    "                  loss=MeanSquaredError(),\n",
    "                  metrics=[RootMeanSquaredError()])\n",
    "    \n",
    "    return model"
   ]
  },
  {
   "cell_type": "code",
   "execution_count": 162,
   "id": "ea681e2d",
   "metadata": {},
   "outputs": [],
   "source": [
    "tuner_2 = kt.RandomSearch(\n",
    "    hypermodel=build_model_2,\n",
    "    objective='val_loss',\n",
    "    max_trials=100,\n",
    "    directory='Real_Estate_Logs_2')"
   ]
  },
  {
   "cell_type": "code",
   "execution_count": 163,
   "id": "d27e59c7",
   "metadata": {},
   "outputs": [
    {
     "name": "stdout",
     "output_type": "stream",
     "text": [
      "Trial 100 Complete [00h 00m 15s]\n",
      "val_loss: 2826139392.0\n",
      "\n",
      "Best val_loss So Far: 2494342656.0\n",
      "Total elapsed time: 00h 31m 09s\n",
      "INFO:tensorflow:Oracle triggered exit\n"
     ]
    }
   ],
   "source": [
    "tuner_2.search(X_train, y_train, epochs=20, batch_size=32, validation_split=0.2, callbacks=[EarlyStopping(patience=3)])"
   ]
  },
  {
   "cell_type": "code",
   "execution_count": 164,
   "id": "28fd1945",
   "metadata": {},
   "outputs": [
    {
     "name": "stdout",
     "output_type": "stream",
     "text": [
      "Results summary\n",
      "Results in Real_Estate_Logs_2/untitled_project\n",
      "Showing 5 best trials\n",
      "Objective(name='val_loss', direction='min')\n",
      "Trial summary\n",
      "Hyperparameters:\n",
      "Dropout_Rate: 0.1\n",
      "3_Layer: True\n",
      "4_Layer: False\n",
      "4_Dense_Units: 48\n",
      "3_Dense_Units: 96\n",
      "Score: 2494342656.0\n",
      "Trial summary\n",
      "Hyperparameters:\n",
      "Dropout_Rate: 0.2\n",
      "3_Layer: True\n",
      "4_Layer: False\n",
      "4_Dense_Units: 56\n",
      "3_Dense_Units: 64\n",
      "Score: 2547969536.0\n",
      "Trial summary\n",
      "Hyperparameters:\n",
      "Dropout_Rate: 0.2\n",
      "3_Layer: False\n",
      "4_Layer: True\n",
      "4_Dense_Units: 64\n",
      "3_Dense_Units: 32\n",
      "Score: 2566008064.0\n",
      "Trial summary\n",
      "Hyperparameters:\n",
      "Dropout_Rate: 0.1\n",
      "3_Layer: False\n",
      "4_Layer: False\n",
      "Score: 2581800704.0\n",
      "Trial summary\n",
      "Hyperparameters:\n",
      "Dropout_Rate: 0.2\n",
      "3_Layer: False\n",
      "4_Layer: True\n",
      "4_Dense_Units: 56\n",
      "3_Dense_Units: 128\n",
      "Score: 2583572224.0\n"
     ]
    }
   ],
   "source": [
    "tuner_2.results_summary(5)"
   ]
  },
  {
   "cell_type": "code",
   "execution_count": 165,
   "id": "e8818513",
   "metadata": {},
   "outputs": [],
   "source": [
    "nn_best_params = tuner_2.get_best_hyperparameters()[0]"
   ]
  },
  {
   "cell_type": "code",
   "execution_count": 166,
   "id": "ab2d25f6",
   "metadata": {},
   "outputs": [],
   "source": [
    "nn = tuner_2.hypermodel.build(nn_best_params)"
   ]
  },
  {
   "cell_type": "code",
   "execution_count": 167,
   "id": "bc7a38af",
   "metadata": {},
   "outputs": [],
   "source": [
    "tb = keras.callbacks.TensorBoard()\n",
    "es = keras.callbacks.EarlyStopping(patience=20)\n",
    "mc = keras.callbacks.ModelCheckpoint(filepath='nn_best.h5', save_best_only=True)\n",
    "cb = [tb, es, mc]"
   ]
  },
  {
   "cell_type": "code",
   "execution_count": 168,
   "id": "740102a6",
   "metadata": {
    "scrolled": true
   },
   "outputs": [
    {
     "name": "stdout",
     "output_type": "stream",
     "text": [
      "Epoch 1/200\n",
      "380/380 [==============================] - 1s 3ms/step - loss: 46410940416.0000 - root_mean_squared_error: 215431.9844 - val_loss: 45002276864.0000 - val_root_mean_squared_error: 212137.4062\n",
      "Epoch 2/200\n",
      "380/380 [==============================] - 1s 3ms/step - loss: 43357704192.0000 - root_mean_squared_error: 208225.1250 - val_loss: 40963862528.0000 - val_root_mean_squared_error: 202395.3125\n",
      "Epoch 3/200\n",
      "380/380 [==============================] - 1s 2ms/step - loss: 37923958784.0000 - root_mean_squared_error: 194740.7500 - val_loss: 33918703616.0000 - val_root_mean_squared_error: 184170.3125\n",
      "Epoch 4/200\n",
      "380/380 [==============================] - 1s 3ms/step - loss: 31267010560.0000 - root_mean_squared_error: 176824.7969 - val_loss: 28386582528.0000 - val_root_mean_squared_error: 168483.1875\n",
      "Epoch 5/200\n",
      "380/380 [==============================] - 1s 3ms/step - loss: 24371075072.0000 - root_mean_squared_error: 156112.3750 - val_loss: 21746536448.0000 - val_root_mean_squared_error: 147467.0625\n",
      "Epoch 6/200\n",
      "380/380 [==============================] - 1s 2ms/step - loss: 18064562176.0000 - root_mean_squared_error: 134404.4688 - val_loss: 14483468288.0000 - val_root_mean_squared_error: 120347.2812\n",
      "Epoch 7/200\n",
      "380/380 [==============================] - 1s 3ms/step - loss: 12871678976.0000 - root_mean_squared_error: 113453.4219 - val_loss: 10862469120.0000 - val_root_mean_squared_error: 104223.1719\n",
      "Epoch 8/200\n",
      "380/380 [==============================] - 1s 3ms/step - loss: 9026228224.0000 - root_mean_squared_error: 95006.4609 - val_loss: 6850700800.0000 - val_root_mean_squared_error: 82768.9609\n",
      "Epoch 9/200\n",
      "380/380 [==============================] - 1s 2ms/step - loss: 6381526016.0000 - root_mean_squared_error: 79884.4531 - val_loss: 4970735104.0000 - val_root_mean_squared_error: 70503.4375\n",
      "Epoch 10/200\n",
      "380/380 [==============================] - 1s 2ms/step - loss: 4934074368.0000 - root_mean_squared_error: 70242.9688 - val_loss: 3599494912.0000 - val_root_mean_squared_error: 59995.7891\n",
      "Epoch 11/200\n",
      "380/380 [==============================] - 1s 2ms/step - loss: 4083667712.0000 - root_mean_squared_error: 63903.5820 - val_loss: 3620317952.0000 - val_root_mean_squared_error: 60169.0781\n",
      "Epoch 12/200\n",
      "380/380 [==============================] - 1s 2ms/step - loss: 3737137920.0000 - root_mean_squared_error: 61132.1328 - val_loss: 3180841984.0000 - val_root_mean_squared_error: 56398.9531\n",
      "Epoch 13/200\n",
      "380/380 [==============================] - 1s 2ms/step - loss: 3646470656.0000 - root_mean_squared_error: 60386.0117 - val_loss: 3046091264.0000 - val_root_mean_squared_error: 55191.4062\n",
      "Epoch 14/200\n",
      "380/380 [==============================] - 1s 2ms/step - loss: 3149673728.0000 - root_mean_squared_error: 56121.9531 - val_loss: 2807217152.0000 - val_root_mean_squared_error: 52983.1758\n",
      "Epoch 15/200\n",
      "380/380 [==============================] - 1s 2ms/step - loss: 2962455552.0000 - root_mean_squared_error: 54428.4414 - val_loss: 2605286912.0000 - val_root_mean_squared_error: 51042.0117\n",
      "Epoch 16/200\n",
      "380/380 [==============================] - 1s 2ms/step - loss: 2917127680.0000 - root_mean_squared_error: 54010.4414 - val_loss: 2609908480.0000 - val_root_mean_squared_error: 51087.2617\n",
      "Epoch 17/200\n",
      "380/380 [==============================] - 1s 2ms/step - loss: 2863716352.0000 - root_mean_squared_error: 53513.7031 - val_loss: 2615557888.0000 - val_root_mean_squared_error: 51142.5234\n",
      "Epoch 18/200\n",
      "380/380 [==============================] - 1s 2ms/step - loss: 2867829248.0000 - root_mean_squared_error: 53552.1172 - val_loss: 2573227264.0000 - val_root_mean_squared_error: 50726.9883\n",
      "Epoch 19/200\n",
      "380/380 [==============================] - 1s 2ms/step - loss: 2849832448.0000 - root_mean_squared_error: 53383.8203 - val_loss: 2581317888.0000 - val_root_mean_squared_error: 50806.6719\n",
      "Epoch 20/200\n",
      "380/380 [==============================] - 1s 2ms/step - loss: 2843347712.0000 - root_mean_squared_error: 53323.0508 - val_loss: 2596720640.0000 - val_root_mean_squared_error: 50958.0273\n",
      "Epoch 21/200\n",
      "380/380 [==============================] - 1s 2ms/step - loss: 2846656768.0000 - root_mean_squared_error: 53354.0703 - val_loss: 2599441920.0000 - val_root_mean_squared_error: 50984.7227\n",
      "Epoch 22/200\n",
      "380/380 [==============================] - 1s 2ms/step - loss: 2812615680.0000 - root_mean_squared_error: 53034.0977 - val_loss: 2651811840.0000 - val_root_mean_squared_error: 51495.7461\n",
      "Epoch 23/200\n",
      "380/380 [==============================] - 1s 2ms/step - loss: 2763932928.0000 - root_mean_squared_error: 52573.1211 - val_loss: 2571124736.0000 - val_root_mean_squared_error: 50706.2578\n",
      "Epoch 24/200\n",
      "380/380 [==============================] - 1s 2ms/step - loss: 2768217600.0000 - root_mean_squared_error: 52613.8516 - val_loss: 2477247744.0000 - val_root_mean_squared_error: 49771.9570\n",
      "Epoch 25/200\n",
      "380/380 [==============================] - 1s 2ms/step - loss: 2745331712.0000 - root_mean_squared_error: 52395.9141 - val_loss: 2453382912.0000 - val_root_mean_squared_error: 49531.6328\n",
      "Epoch 26/200\n",
      "380/380 [==============================] - 1s 2ms/step - loss: 2818469888.0000 - root_mean_squared_error: 53089.2656 - val_loss: 2508440064.0000 - val_root_mean_squared_error: 50084.3281\n",
      "Epoch 27/200\n",
      "380/380 [==============================] - 1s 2ms/step - loss: 2732690176.0000 - root_mean_squared_error: 52275.1406 - val_loss: 2467777792.0000 - val_root_mean_squared_error: 49676.7344\n",
      "Epoch 28/200\n",
      "380/380 [==============================] - 1s 2ms/step - loss: 2708059136.0000 - root_mean_squared_error: 52039.0156 - val_loss: 2523813120.0000 - val_root_mean_squared_error: 50237.5664\n",
      "Epoch 29/200\n",
      "380/380 [==============================] - 1s 2ms/step - loss: 2806958336.0000 - root_mean_squared_error: 52980.7344 - val_loss: 2573433856.0000 - val_root_mean_squared_error: 50729.0234\n",
      "Epoch 30/200\n",
      "380/380 [==============================] - 1s 2ms/step - loss: 2745995776.0000 - root_mean_squared_error: 52402.2500 - val_loss: 2495240192.0000 - val_root_mean_squared_error: 49952.3789\n",
      "Epoch 31/200\n",
      "380/380 [==============================] - 1s 2ms/step - loss: 2705804032.0000 - root_mean_squared_error: 52017.3438 - val_loss: 2450361344.0000 - val_root_mean_squared_error: 49501.1250\n",
      "Epoch 32/200\n",
      "380/380 [==============================] - 1s 2ms/step - loss: 2659215104.0000 - root_mean_squared_error: 51567.5781 - val_loss: 2458115584.0000 - val_root_mean_squared_error: 49579.3867\n",
      "Epoch 33/200\n",
      "380/380 [==============================] - 1s 2ms/step - loss: 2728259584.0000 - root_mean_squared_error: 52232.7422 - val_loss: 2459129856.0000 - val_root_mean_squared_error: 49589.6133\n",
      "Epoch 34/200\n",
      "380/380 [==============================] - 1s 2ms/step - loss: 2651594240.0000 - root_mean_squared_error: 51493.6328 - val_loss: 2531606528.0000 - val_root_mean_squared_error: 50315.0742\n",
      "Epoch 35/200\n",
      "380/380 [==============================] - 1s 3ms/step - loss: 2724766464.0000 - root_mean_squared_error: 52199.2930 - val_loss: 2400175104.0000 - val_root_mean_squared_error: 48991.5820\n",
      "Epoch 36/200\n",
      "380/380 [==============================] - 1s 2ms/step - loss: 2645387520.0000 - root_mean_squared_error: 51433.3320 - val_loss: 2415126272.0000 - val_root_mean_squared_error: 49143.9336\n",
      "Epoch 37/200\n",
      "380/380 [==============================] - 1s 2ms/step - loss: 2724548352.0000 - root_mean_squared_error: 52197.2070 - val_loss: 2405829632.0000 - val_root_mean_squared_error: 49049.2578\n",
      "Epoch 38/200\n",
      "380/380 [==============================] - 1s 3ms/step - loss: 2655765760.0000 - root_mean_squared_error: 51534.1211 - val_loss: 2382952960.0000 - val_root_mean_squared_error: 48815.4961\n",
      "Epoch 39/200\n",
      "380/380 [==============================] - 1s 3ms/step - loss: 2667752704.0000 - root_mean_squared_error: 51650.2930 - val_loss: 2476973312.0000 - val_root_mean_squared_error: 49769.1992\n",
      "Epoch 40/200\n",
      "380/380 [==============================] - 1s 2ms/step - loss: 2655260416.0000 - root_mean_squared_error: 51529.2188 - val_loss: 2524588800.0000 - val_root_mean_squared_error: 50245.2852\n",
      "Epoch 41/200\n",
      "380/380 [==============================] - 1s 2ms/step - loss: 2622684416.0000 - root_mean_squared_error: 51212.1484 - val_loss: 2401015552.0000 - val_root_mean_squared_error: 49000.1602\n"
     ]
    },
    {
     "name": "stdout",
     "output_type": "stream",
     "text": [
      "Epoch 42/200\n",
      "380/380 [==============================] - 1s 2ms/step - loss: 2652205824.0000 - root_mean_squared_error: 51499.5703 - val_loss: 2412898048.0000 - val_root_mean_squared_error: 49121.2578\n",
      "Epoch 43/200\n",
      "380/380 [==============================] - 1s 3ms/step - loss: 2659302912.0000 - root_mean_squared_error: 51568.4297 - val_loss: 2380142080.0000 - val_root_mean_squared_error: 48786.6992\n",
      "Epoch 44/200\n",
      "380/380 [==============================] - 1s 2ms/step - loss: 2644452608.0000 - root_mean_squared_error: 51424.2422 - val_loss: 2464777216.0000 - val_root_mean_squared_error: 49646.5234\n",
      "Epoch 45/200\n",
      "380/380 [==============================] - 1s 3ms/step - loss: 2614769664.0000 - root_mean_squared_error: 51134.8164 - val_loss: 2376600832.0000 - val_root_mean_squared_error: 48750.3945\n",
      "Epoch 46/200\n",
      "380/380 [==============================] - 1s 3ms/step - loss: 2638655744.0000 - root_mean_squared_error: 51367.8477 - val_loss: 2468266752.0000 - val_root_mean_squared_error: 49681.6523\n",
      "Epoch 47/200\n",
      "380/380 [==============================] - 1s 2ms/step - loss: 2590562560.0000 - root_mean_squared_error: 50897.5703 - val_loss: 2338201600.0000 - val_root_mean_squared_error: 48354.9531\n",
      "Epoch 48/200\n",
      "380/380 [==============================] - 1s 2ms/step - loss: 2630311424.0000 - root_mean_squared_error: 51286.5625 - val_loss: 2437964544.0000 - val_root_mean_squared_error: 49375.7500\n",
      "Epoch 49/200\n",
      "380/380 [==============================] - 1s 2ms/step - loss: 2638316544.0000 - root_mean_squared_error: 51364.5469 - val_loss: 2384825856.0000 - val_root_mean_squared_error: 48834.6758\n",
      "Epoch 50/200\n",
      "380/380 [==============================] - 1s 2ms/step - loss: 2582399232.0000 - root_mean_squared_error: 50817.3125 - val_loss: 2359726592.0000 - val_root_mean_squared_error: 48577.0156\n",
      "Epoch 51/200\n",
      "380/380 [==============================] - 1s 3ms/step - loss: 2611258368.0000 - root_mean_squared_error: 51100.4727 - val_loss: 2395830528.0000 - val_root_mean_squared_error: 48947.2227\n",
      "Epoch 52/200\n",
      "380/380 [==============================] - 1s 2ms/step - loss: 2519275264.0000 - root_mean_squared_error: 50192.3828 - val_loss: 2334483200.0000 - val_root_mean_squared_error: 48316.4883\n",
      "Epoch 53/200\n",
      "380/380 [==============================] - 1s 2ms/step - loss: 2552397056.0000 - root_mean_squared_error: 50521.2539 - val_loss: 2300468736.0000 - val_root_mean_squared_error: 47963.2031\n",
      "Epoch 54/200\n",
      "380/380 [==============================] - 1s 2ms/step - loss: 2559499520.0000 - root_mean_squared_error: 50591.4961 - val_loss: 2347319552.0000 - val_root_mean_squared_error: 48449.1445\n",
      "Epoch 55/200\n",
      "380/380 [==============================] - 1s 2ms/step - loss: 2572522752.0000 - root_mean_squared_error: 50720.0430 - val_loss: 2322567424.0000 - val_root_mean_squared_error: 48193.0234\n",
      "Epoch 56/200\n",
      "380/380 [==============================] - 1s 2ms/step - loss: 2645618432.0000 - root_mean_squared_error: 51435.5781 - val_loss: 2318920704.0000 - val_root_mean_squared_error: 48155.1719\n",
      "Epoch 57/200\n",
      "380/380 [==============================] - 1s 2ms/step - loss: 2537569024.0000 - root_mean_squared_error: 50374.2891 - val_loss: 2323824640.0000 - val_root_mean_squared_error: 48206.0625\n",
      "Epoch 58/200\n",
      "380/380 [==============================] - 1s 2ms/step - loss: 2608824320.0000 - root_mean_squared_error: 51076.6523 - val_loss: 2314642432.0000 - val_root_mean_squared_error: 48110.7305\n",
      "Epoch 59/200\n",
      "380/380 [==============================] - 1s 2ms/step - loss: 2534610688.0000 - root_mean_squared_error: 50344.9180 - val_loss: 2276851968.0000 - val_root_mean_squared_error: 47716.3711\n",
      "Epoch 60/200\n",
      "380/380 [==============================] - 1s 2ms/step - loss: 2560448000.0000 - root_mean_squared_error: 50600.8672 - val_loss: 2303015168.0000 - val_root_mean_squared_error: 47989.7422\n",
      "Epoch 61/200\n",
      "380/380 [==============================] - 1s 2ms/step - loss: 2478159104.0000 - root_mean_squared_error: 49781.1133 - val_loss: 2290853632.0000 - val_root_mean_squared_error: 47862.8633\n",
      "Epoch 62/200\n",
      "380/380 [==============================] - 1s 2ms/step - loss: 2563784960.0000 - root_mean_squared_error: 50633.8320 - val_loss: 2286849280.0000 - val_root_mean_squared_error: 47821.0117\n",
      "Epoch 63/200\n",
      "380/380 [==============================] - 1s 2ms/step - loss: 2538852608.0000 - root_mean_squared_error: 50387.0273 - val_loss: 2264184320.0000 - val_root_mean_squared_error: 47583.4453\n",
      "Epoch 64/200\n",
      "380/380 [==============================] - 1s 2ms/step - loss: 2561508352.0000 - root_mean_squared_error: 50611.3438 - val_loss: 2313255680.0000 - val_root_mean_squared_error: 48096.3164\n",
      "Epoch 65/200\n",
      "380/380 [==============================] - 1s 2ms/step - loss: 2549704960.0000 - root_mean_squared_error: 50494.6016 - val_loss: 2359670784.0000 - val_root_mean_squared_error: 48576.4414\n",
      "Epoch 66/200\n",
      "380/380 [==============================] - 1s 2ms/step - loss: 2535328768.0000 - root_mean_squared_error: 50352.0469 - val_loss: 2388073728.0000 - val_root_mean_squared_error: 48867.9180\n",
      "Epoch 67/200\n",
      "380/380 [==============================] - 1s 2ms/step - loss: 2531517696.0000 - root_mean_squared_error: 50314.1914 - val_loss: 2319557888.0000 - val_root_mean_squared_error: 48161.7891\n",
      "Epoch 68/200\n",
      "380/380 [==============================] - 1s 3ms/step - loss: 2503314432.0000 - root_mean_squared_error: 50033.1328 - val_loss: 2310012672.0000 - val_root_mean_squared_error: 48062.5898\n",
      "Epoch 69/200\n",
      "380/380 [==============================] - 1s 2ms/step - loss: 2530252800.0000 - root_mean_squared_error: 50301.6172 - val_loss: 2280054528.0000 - val_root_mean_squared_error: 47749.9180\n",
      "Epoch 70/200\n",
      "380/380 [==============================] - 1s 2ms/step - loss: 2517880576.0000 - root_mean_squared_error: 50178.4844 - val_loss: 2279714560.0000 - val_root_mean_squared_error: 47746.3555\n",
      "Epoch 71/200\n",
      "380/380 [==============================] - 1s 2ms/step - loss: 2558478592.0000 - root_mean_squared_error: 50581.4062 - val_loss: 2251300864.0000 - val_root_mean_squared_error: 47447.8750\n",
      "Epoch 72/200\n",
      "380/380 [==============================] - 1s 2ms/step - loss: 2482467840.0000 - root_mean_squared_error: 49824.3711 - val_loss: 2263887360.0000 - val_root_mean_squared_error: 47580.3242\n",
      "Epoch 73/200\n",
      "380/380 [==============================] - 1s 2ms/step - loss: 2476480512.0000 - root_mean_squared_error: 49764.2500 - val_loss: 2246748928.0000 - val_root_mean_squared_error: 47399.8828\n",
      "Epoch 74/200\n",
      "380/380 [==============================] - 1s 2ms/step - loss: 2469949184.0000 - root_mean_squared_error: 49698.5820 - val_loss: 2295386624.0000 - val_root_mean_squared_error: 47910.1914\n",
      "Epoch 75/200\n",
      "380/380 [==============================] - 1s 2ms/step - loss: 2477179392.0000 - root_mean_squared_error: 49771.2695 - val_loss: 2282924288.0000 - val_root_mean_squared_error: 47779.9570\n",
      "Epoch 76/200\n",
      "380/380 [==============================] - ETA: 0s - loss: 2479315712.0000 - root_mean_squared_error: 49792.72 - 1s 2ms/step - loss: 2488612096.0000 - root_mean_squared_error: 49885.9883 - val_loss: 2268196608.0000 - val_root_mean_squared_error: 47625.5859\n",
      "Epoch 77/200\n",
      "380/380 [==============================] - 1s 3ms/step - loss: 2490482432.0000 - root_mean_squared_error: 49904.7305 - val_loss: 2353505280.0000 - val_root_mean_squared_error: 48512.9375\n",
      "Epoch 78/200\n",
      "380/380 [==============================] - 1s 2ms/step - loss: 2479053056.0000 - root_mean_squared_error: 49790.0898 - val_loss: 2319899392.0000 - val_root_mean_squared_error: 48165.3320\n",
      "Epoch 79/200\n",
      "380/380 [==============================] - 1s 2ms/step - loss: 2522539264.0000 - root_mean_squared_error: 50224.8867 - val_loss: 2299725312.0000 - val_root_mean_squared_error: 47955.4531\n",
      "Epoch 80/200\n",
      "380/380 [==============================] - 1s 2ms/step - loss: 2530858496.0000 - root_mean_squared_error: 50307.6367 - val_loss: 2250706176.0000 - val_root_mean_squared_error: 47441.6055\n",
      "Epoch 81/200\n",
      "380/380 [==============================] - 1s 2ms/step - loss: 2442778880.0000 - root_mean_squared_error: 49424.4766 - val_loss: 2290004992.0000 - val_root_mean_squared_error: 47853.9961\n",
      "Epoch 82/200\n"
     ]
    },
    {
     "name": "stdout",
     "output_type": "stream",
     "text": [
      "380/380 [==============================] - 1s 2ms/step - loss: 2461032192.0000 - root_mean_squared_error: 49608.7891 - val_loss: 2257860864.0000 - val_root_mean_squared_error: 47516.9531\n",
      "Epoch 83/200\n",
      "380/380 [==============================] - 1s 2ms/step - loss: 2462507264.0000 - root_mean_squared_error: 49623.6562 - val_loss: 2275590400.0000 - val_root_mean_squared_error: 47703.1484\n",
      "Epoch 84/200\n",
      "380/380 [==============================] - 1s 2ms/step - loss: 2479996160.0000 - root_mean_squared_error: 49799.5625 - val_loss: 2288147456.0000 - val_root_mean_squared_error: 47834.5820\n",
      "Epoch 85/200\n",
      "380/380 [==============================] - 1s 2ms/step - loss: 2440694528.0000 - root_mean_squared_error: 49403.3867 - val_loss: 2300377600.0000 - val_root_mean_squared_error: 47962.2500\n",
      "Epoch 86/200\n",
      "380/380 [==============================] - 1s 2ms/step - loss: 2466789888.0000 - root_mean_squared_error: 49666.7891 - val_loss: 2230500096.0000 - val_root_mean_squared_error: 47228.1719\n",
      "Epoch 87/200\n",
      "380/380 [==============================] - 1s 2ms/step - loss: 2473815552.0000 - root_mean_squared_error: 49737.4648 - val_loss: 2254435840.0000 - val_root_mean_squared_error: 47480.8984\n",
      "Epoch 88/200\n",
      "380/380 [==============================] - 1s 2ms/step - loss: 2440194816.0000 - root_mean_squared_error: 49398.3281 - val_loss: 2251782912.0000 - val_root_mean_squared_error: 47452.9531\n",
      "Epoch 89/200\n",
      "380/380 [==============================] - 1s 2ms/step - loss: 2457812480.0000 - root_mean_squared_error: 49576.3281 - val_loss: 2290997248.0000 - val_root_mean_squared_error: 47864.3633\n",
      "Epoch 90/200\n",
      "380/380 [==============================] - 1s 2ms/step - loss: 2427074560.0000 - root_mean_squared_error: 49265.3477 - val_loss: 2249107968.0000 - val_root_mean_squared_error: 47424.7617\n",
      "Epoch 91/200\n",
      "380/380 [==============================] - 1s 2ms/step - loss: 2435335168.0000 - root_mean_squared_error: 49349.1133 - val_loss: 2275495168.0000 - val_root_mean_squared_error: 47702.1523\n",
      "Epoch 92/200\n",
      "380/380 [==============================] - 1s 2ms/step - loss: 2485732352.0000 - root_mean_squared_error: 49857.1172 - val_loss: 2310528512.0000 - val_root_mean_squared_error: 48067.9570\n",
      "Epoch 93/200\n",
      "380/380 [==============================] - 1s 2ms/step - loss: 2415304704.0000 - root_mean_squared_error: 49145.7500 - val_loss: 2288996096.0000 - val_root_mean_squared_error: 47843.4531\n",
      "Epoch 94/200\n",
      "380/380 [==============================] - 1s 2ms/step - loss: 2443729152.0000 - root_mean_squared_error: 49434.0898 - val_loss: 2260187136.0000 - val_root_mean_squared_error: 47541.4258\n",
      "Epoch 95/200\n",
      "380/380 [==============================] - 1s 2ms/step - loss: 2480683520.0000 - root_mean_squared_error: 49806.4609 - val_loss: 2213730048.0000 - val_root_mean_squared_error: 47050.2930\n",
      "Epoch 96/200\n",
      "380/380 [==============================] - 1s 2ms/step - loss: 2500913408.0000 - root_mean_squared_error: 50009.1328 - val_loss: 2255792384.0000 - val_root_mean_squared_error: 47495.1797\n",
      "Epoch 97/200\n",
      "380/380 [==============================] - 1s 2ms/step - loss: 2468125440.0000 - root_mean_squared_error: 49680.2305 - val_loss: 2202098944.0000 - val_root_mean_squared_error: 46926.5273\n",
      "Epoch 98/200\n",
      "380/380 [==============================] - 1s 2ms/step - loss: 2434936832.0000 - root_mean_squared_error: 49345.0781 - val_loss: 2225948416.0000 - val_root_mean_squared_error: 47179.9570\n",
      "Epoch 99/200\n",
      "380/380 [==============================] - 1s 2ms/step - loss: 2439770880.0000 - root_mean_squared_error: 49394.0391 - val_loss: 2272870656.0000 - val_root_mean_squared_error: 47674.6328\n",
      "Epoch 100/200\n",
      "380/380 [==============================] - 1s 2ms/step - loss: 2492259584.0000 - root_mean_squared_error: 49922.5352 - val_loss: 2218623488.0000 - val_root_mean_squared_error: 47102.2656\n",
      "Epoch 101/200\n",
      "380/380 [==============================] - 1s 2ms/step - loss: 2439285760.0000 - root_mean_squared_error: 49389.1250 - val_loss: 2278537984.0000 - val_root_mean_squared_error: 47734.0352\n",
      "Epoch 102/200\n",
      "380/380 [==============================] - 1s 2ms/step - loss: 2447863552.0000 - root_mean_squared_error: 49475.8906 - val_loss: 2242994176.0000 - val_root_mean_squared_error: 47360.2617\n",
      "Epoch 103/200\n",
      "380/380 [==============================] - 1s 2ms/step - loss: 2423475968.0000 - root_mean_squared_error: 49228.8125 - val_loss: 2270896896.0000 - val_root_mean_squared_error: 47653.9297\n",
      "Epoch 104/200\n",
      "380/380 [==============================] - 1s 2ms/step - loss: 2449879808.0000 - root_mean_squared_error: 49496.2578 - val_loss: 2230640896.0000 - val_root_mean_squared_error: 47229.6602\n",
      "Epoch 105/200\n",
      "380/380 [==============================] - 1s 2ms/step - loss: 2412024064.0000 - root_mean_squared_error: 49112.3633 - val_loss: 2211948544.0000 - val_root_mean_squared_error: 47031.3594\n",
      "Epoch 106/200\n",
      "380/380 [==============================] - 1s 2ms/step - loss: 2448980480.0000 - root_mean_squared_error: 49487.1758 - val_loss: 2265765376.0000 - val_root_mean_squared_error: 47600.0547\n",
      "Epoch 107/200\n",
      "380/380 [==============================] - 1s 2ms/step - loss: 2448686080.0000 - root_mean_squared_error: 49484.2031 - val_loss: 2251234304.0000 - val_root_mean_squared_error: 47447.1719\n",
      "Epoch 108/200\n",
      "380/380 [==============================] - 1s 2ms/step - loss: 2396003840.0000 - root_mean_squared_error: 48948.9922 - val_loss: 2289447680.0000 - val_root_mean_squared_error: 47848.1719\n",
      "Epoch 109/200\n",
      "380/380 [==============================] - 1s 2ms/step - loss: 2427647744.0000 - root_mean_squared_error: 49271.1641 - val_loss: 2274737408.0000 - val_root_mean_squared_error: 47694.2070\n",
      "Epoch 110/200\n",
      "380/380 [==============================] - 1s 2ms/step - loss: 2466595072.0000 - root_mean_squared_error: 49664.8281 - val_loss: 2330744064.0000 - val_root_mean_squared_error: 48277.7812\n",
      "Epoch 111/200\n",
      "380/380 [==============================] - 1s 2ms/step - loss: 2460361984.0000 - root_mean_squared_error: 49602.0352 - val_loss: 2289134592.0000 - val_root_mean_squared_error: 47844.9023\n",
      "Epoch 112/200\n",
      "380/380 [==============================] - 1s 2ms/step - loss: 2478391040.0000 - root_mean_squared_error: 49783.4414 - val_loss: 2257523200.0000 - val_root_mean_squared_error: 47513.3984\n",
      "Epoch 113/200\n",
      "380/380 [==============================] - 1s 2ms/step - loss: 2377270784.0000 - root_mean_squared_error: 48757.2656 - val_loss: 2305107200.0000 - val_root_mean_squared_error: 48011.5312\n",
      "Epoch 114/200\n",
      "380/380 [==============================] - 1s 2ms/step - loss: 2357456384.0000 - root_mean_squared_error: 48553.6445 - val_loss: 2279387648.0000 - val_root_mean_squared_error: 47742.9336\n",
      "Epoch 115/200\n",
      "380/380 [==============================] - 1s 2ms/step - loss: 2465426688.0000 - root_mean_squared_error: 49653.0625 - val_loss: 2252306688.0000 - val_root_mean_squared_error: 47458.4727\n",
      "Epoch 116/200\n",
      "380/380 [==============================] - 1s 2ms/step - loss: 2450745856.0000 - root_mean_squared_error: 49505.0078 - val_loss: 2239265024.0000 - val_root_mean_squared_error: 47320.8750\n",
      "Epoch 117/200\n",
      "380/380 [==============================] - 1s 3ms/step - loss: 2387803392.0000 - root_mean_squared_error: 48865.1523 - val_loss: 2165819904.0000 - val_root_mean_squared_error: 46538.3711\n",
      "Epoch 118/200\n",
      "380/380 [==============================] - 1s 2ms/step - loss: 2360544768.0000 - root_mean_squared_error: 48585.4375 - val_loss: 2258527488.0000 - val_root_mean_squared_error: 47523.9648\n",
      "Epoch 119/200\n",
      "380/380 [==============================] - 1s 2ms/step - loss: 2415161344.0000 - root_mean_squared_error: 49144.2930 - val_loss: 2231144960.0000 - val_root_mean_squared_error: 47234.9961\n",
      "Epoch 120/200\n",
      "380/380 [==============================] - 1s 2ms/step - loss: 2360129280.0000 - root_mean_squared_error: 48581.1602 - val_loss: 2269729280.0000 - val_root_mean_squared_error: 47641.6758\n",
      "Epoch 121/200\n",
      "380/380 [==============================] - 1s 2ms/step - loss: 2408958720.0000 - root_mean_squared_error: 49081.1445 - val_loss: 2285391104.0000 - val_root_mean_squared_error: 47805.7617\n",
      "Epoch 122/200\n",
      "380/380 [==============================] - 1s 2ms/step - loss: 2406114560.0000 - root_mean_squared_error: 49052.1641 - val_loss: 2226007552.0000 - val_root_mean_squared_error: 47180.5820\n"
     ]
    },
    {
     "name": "stdout",
     "output_type": "stream",
     "text": [
      "Epoch 123/200\n",
      "380/380 [==============================] - 1s 2ms/step - loss: 2404846080.0000 - root_mean_squared_error: 49039.2305 - val_loss: 2207234048.0000 - val_root_mean_squared_error: 46981.2109\n",
      "Epoch 124/200\n",
      "380/380 [==============================] - 1s 2ms/step - loss: 2391676160.0000 - root_mean_squared_error: 48904.7656 - val_loss: 2189156608.0000 - val_root_mean_squared_error: 46788.4219\n",
      "Epoch 125/200\n",
      "380/380 [==============================] - 1s 2ms/step - loss: 2436239872.0000 - root_mean_squared_error: 49358.2812 - val_loss: 2278617600.0000 - val_root_mean_squared_error: 47734.8672\n",
      "Epoch 126/200\n",
      "380/380 [==============================] - 1s 2ms/step - loss: 2362433024.0000 - root_mean_squared_error: 48604.8672 - val_loss: 2214464256.0000 - val_root_mean_squared_error: 47058.0938\n",
      "Epoch 127/200\n",
      "380/380 [==============================] - 1s 2ms/step - loss: 2388493568.0000 - root_mean_squared_error: 48872.2148 - val_loss: 2154225664.0000 - val_root_mean_squared_error: 46413.6367\n",
      "Epoch 128/200\n",
      "380/380 [==============================] - 1s 2ms/step - loss: 2388371712.0000 - root_mean_squared_error: 48870.9688 - val_loss: 2226354688.0000 - val_root_mean_squared_error: 47184.2617\n",
      "Epoch 129/200\n",
      "380/380 [==============================] - 1s 2ms/step - loss: 2383243008.0000 - root_mean_squared_error: 48818.4688 - val_loss: 2207088128.0000 - val_root_mean_squared_error: 46979.6562\n",
      "Epoch 130/200\n",
      "380/380 [==============================] - 1s 2ms/step - loss: 2372636672.0000 - root_mean_squared_error: 48709.7188 - val_loss: 2190538752.0000 - val_root_mean_squared_error: 46803.1914\n",
      "Epoch 131/200\n",
      "380/380 [==============================] - 1s 2ms/step - loss: 2374954496.0000 - root_mean_squared_error: 48733.5039 - val_loss: 2270397440.0000 - val_root_mean_squared_error: 47648.6875\n",
      "Epoch 132/200\n",
      "380/380 [==============================] - 1s 2ms/step - loss: 2388175360.0000 - root_mean_squared_error: 48868.9609 - val_loss: 2217829120.0000 - val_root_mean_squared_error: 47093.8320\n",
      "Epoch 133/200\n",
      "380/380 [==============================] - 1s 2ms/step - loss: 2360345856.0000 - root_mean_squared_error: 48583.3906 - val_loss: 2190814208.0000 - val_root_mean_squared_error: 46806.1328\n",
      "Epoch 134/200\n",
      "380/380 [==============================] - 1s 2ms/step - loss: 2403153152.0000 - root_mean_squared_error: 49021.9648 - val_loss: 2238494976.0000 - val_root_mean_squared_error: 47312.7344\n",
      "Epoch 135/200\n",
      "380/380 [==============================] - 1s 2ms/step - loss: 2389570816.0000 - root_mean_squared_error: 48883.2344 - val_loss: 2231811072.0000 - val_root_mean_squared_error: 47242.0469\n",
      "Epoch 136/200\n",
      "380/380 [==============================] - 1s 2ms/step - loss: 2398811136.0000 - root_mean_squared_error: 48977.6602 - val_loss: 2264904960.0000 - val_root_mean_squared_error: 47591.0156\n",
      "Epoch 137/200\n",
      "380/380 [==============================] - 1s 2ms/step - loss: 2338887424.0000 - root_mean_squared_error: 48362.0469 - val_loss: 2235508736.0000 - val_root_mean_squared_error: 47281.1680\n",
      "Epoch 138/200\n",
      "380/380 [==============================] - 1s 2ms/step - loss: 2373725952.0000 - root_mean_squared_error: 48720.8984 - val_loss: 2263229440.0000 - val_root_mean_squared_error: 47573.4102\n",
      "Epoch 139/200\n",
      "380/380 [==============================] - 1s 2ms/step - loss: 2389857280.0000 - root_mean_squared_error: 48886.1641 - val_loss: 2179447552.0000 - val_root_mean_squared_error: 46684.5547\n",
      "Epoch 140/200\n",
      "380/380 [==============================] - 1s 2ms/step - loss: 2346699264.0000 - root_mean_squared_error: 48442.7422 - val_loss: 2224066304.0000 - val_root_mean_squared_error: 47160.0078\n",
      "Epoch 141/200\n",
      "380/380 [==============================] - 1s 2ms/step - loss: 2349785600.0000 - root_mean_squared_error: 48474.5859 - val_loss: 2202310144.0000 - val_root_mean_squared_error: 46928.7773\n",
      "Epoch 142/200\n",
      "380/380 [==============================] - 1s 2ms/step - loss: 2401132288.0000 - root_mean_squared_error: 49001.3516 - val_loss: 2271580416.0000 - val_root_mean_squared_error: 47661.1016\n",
      "Epoch 143/200\n",
      "380/380 [==============================] - 1s 2ms/step - loss: 2366443264.0000 - root_mean_squared_error: 48646.1016 - val_loss: 2220291072.0000 - val_root_mean_squared_error: 47119.9648\n",
      "Epoch 144/200\n",
      "380/380 [==============================] - 1s 2ms/step - loss: 2375163392.0000 - root_mean_squared_error: 48735.6484 - val_loss: 2265595904.0000 - val_root_mean_squared_error: 47598.2773\n",
      "Epoch 145/200\n",
      "380/380 [==============================] - 1s 2ms/step - loss: 2338984192.0000 - root_mean_squared_error: 48363.0469 - val_loss: 2193770496.0000 - val_root_mean_squared_error: 46837.7031\n",
      "Epoch 146/200\n",
      "380/380 [==============================] - 1s 2ms/step - loss: 2364645120.0000 - root_mean_squared_error: 48627.6172 - val_loss: 2199191040.0000 - val_root_mean_squared_error: 46895.5312\n",
      "Epoch 147/200\n",
      "380/380 [==============================] - 1s 2ms/step - loss: 2321087744.0000 - root_mean_squared_error: 48177.6680 - val_loss: 2211615232.0000 - val_root_mean_squared_error: 47027.8125\n"
     ]
    },
    {
     "data": {
      "text/plain": [
       "<keras.callbacks.History at 0x7ff1e43dc310>"
      ]
     },
     "execution_count": 168,
     "metadata": {},
     "output_type": "execute_result"
    }
   ],
   "source": [
    "nn.fit(X_train, y_train, epochs=200, batch_size=32, callbacks=cb, validation_split=0.2)"
   ]
  },
  {
   "cell_type": "code",
   "execution_count": 169,
   "id": "05e79650",
   "metadata": {
    "scrolled": false
   },
   "outputs": [
    {
     "data": {
      "text/html": [
       "\n",
       "      <iframe id=\"tensorboard-frame-cd8776c58aa1e3bf\" width=\"100%\" height=\"800\" frameborder=\"0\">\n",
       "      </iframe>\n",
       "      <script>\n",
       "        (function() {\n",
       "          const frame = document.getElementById(\"tensorboard-frame-cd8776c58aa1e3bf\");\n",
       "          const url = new URL(\"/\", window.location);\n",
       "          const port = 6008;\n",
       "          if (port) {\n",
       "            url.port = port;\n",
       "          }\n",
       "          frame.src = url;\n",
       "        })();\n",
       "      </script>\n",
       "    "
      ],
      "text/plain": [
       "<IPython.core.display.HTML object>"
      ]
     },
     "metadata": {},
     "output_type": "display_data"
    }
   ],
   "source": [
    "%load_ext tensorboard\n",
    "%tensorboard --logdir=./logs --port=6008"
   ]
  },
  {
   "cell_type": "markdown",
   "id": "713553f1",
   "metadata": {},
   "source": [
    "# Evaluate each model with the testset"
   ]
  },
  {
   "cell_type": "code",
   "execution_count": 173,
   "id": "e020d8ef",
   "metadata": {},
   "outputs": [],
   "source": [
    "X_test = preprocess(X_test)"
   ]
  },
  {
   "cell_type": "code",
   "execution_count": 176,
   "id": "a435473b",
   "metadata": {},
   "outputs": [],
   "source": [
    "X_test = preprocess_pipeline.transform(X_test)"
   ]
  },
  {
   "cell_type": "code",
   "execution_count": 178,
   "id": "2b5f6fe8",
   "metadata": {},
   "outputs": [],
   "source": [
    "y_test = np.array(y_test)"
   ]
  },
  {
   "cell_type": "code",
   "execution_count": 179,
   "id": "bf27893c",
   "metadata": {},
   "outputs": [],
   "source": [
    "def evaluate(model, X, y):\n",
    "    prediction = model.predict(X)\n",
    "    mse = mean_squared_error(y, prediction)\n",
    "    rmse = np.sqrt(mse)\n",
    "    print(rmse)"
   ]
  },
  {
   "cell_type": "code",
   "execution_count": 197,
   "id": "a7af79a3",
   "metadata": {},
   "outputs": [
    {
     "name": "stdout",
     "output_type": "stream",
     "text": [
      "57846.31747918609\n"
     ]
    }
   ],
   "source": [
    "evaluate(svr_best, X_test, y_test)"
   ]
  },
  {
   "cell_type": "code",
   "execution_count": 198,
   "id": "207d6c5e",
   "metadata": {},
   "outputs": [
    {
     "name": "stdout",
     "output_type": "stream",
     "text": [
      "49309.00024182606\n"
     ]
    }
   ],
   "source": [
    "evaluate(rfr_best, X_test, y_test)"
   ]
  },
  {
   "cell_type": "code",
   "execution_count": 199,
   "id": "a51e0f24",
   "metadata": {},
   "outputs": [
    {
     "name": "stdout",
     "output_type": "stream",
     "text": [
      "45460.93453116578\n"
     ]
    }
   ],
   "source": [
    "evaluate(gbr_best, X_test, y_test)"
   ]
  },
  {
   "cell_type": "code",
   "execution_count": 200,
   "id": "23e7b1bd",
   "metadata": {},
   "outputs": [],
   "source": [
    "nn_best = tf.keras.models.load_model('nn_best.h5')"
   ]
  },
  {
   "cell_type": "code",
   "execution_count": 201,
   "id": "4cf93215",
   "metadata": {},
   "outputs": [
    {
     "name": "stdout",
     "output_type": "stream",
     "text": [
      "55522.6308297926\n"
     ]
    }
   ],
   "source": [
    "evaluate(nn_best, X_test, y_test)"
   ]
  },
  {
   "cell_type": "markdown",
   "id": "a1d178a3",
   "metadata": {},
   "source": [
    "All models perform slightly worse on the testset but svr & nn worse compared to rfr & gbr"
   ]
  },
  {
   "cell_type": "code",
   "execution_count": 206,
   "id": "1095b59c",
   "metadata": {},
   "outputs": [],
   "source": [
    "rfr_gbr = VotingRegressor(\n",
    "    estimators=[('rfr', rfr_best), ('gbr', gbr_best)]\n",
    ")"
   ]
  },
  {
   "cell_type": "code",
   "execution_count": 207,
   "id": "7752d6c1",
   "metadata": {},
   "outputs": [
    {
     "data": {
      "text/plain": [
       "VotingRegressor(estimators=[('rfr',\n",
       "                             RandomForestRegressor(bootstrap=False,\n",
       "                                                   max_depth=30,\n",
       "                                                   max_features='sqrt',\n",
       "                                                   n_estimators=1850)),\n",
       "                            ('gbr',\n",
       "                             GradientBoostingRegressor(max_depth=5,\n",
       "                                                       max_features='sqrt',\n",
       "                                                       min_samples_leaf=4,\n",
       "                                                       min_samples_split=5,\n",
       "                                                       n_estimators=5000))])"
      ]
     },
     "execution_count": 207,
     "metadata": {},
     "output_type": "execute_result"
    }
   ],
   "source": [
    "rfr_gbr.fit(X_train, y_train)"
   ]
  },
  {
   "cell_type": "code",
   "execution_count": 208,
   "id": "d292de08",
   "metadata": {},
   "outputs": [
    {
     "name": "stdout",
     "output_type": "stream",
     "text": [
      "45824.5597424881\n"
     ]
    }
   ],
   "source": [
    "evaluate(rfr_gbr, X_test, y_test)"
   ]
  },
  {
   "cell_type": "code",
   "execution_count": 211,
   "id": "a5996b92",
   "metadata": {},
   "outputs": [],
   "source": [
    "rfr_gbr_weighted = VotingRegressor(\n",
    "    estimators=[('rfr', rfr_best), ('gbr', gbr_best)],\n",
    "    weights=[0.35, 0.65]\n",
    ")"
   ]
  },
  {
   "cell_type": "code",
   "execution_count": 212,
   "id": "0cb186e3",
   "metadata": {},
   "outputs": [
    {
     "data": {
      "text/plain": [
       "VotingRegressor(estimators=[('rfr',\n",
       "                             RandomForestRegressor(bootstrap=False,\n",
       "                                                   max_depth=30,\n",
       "                                                   max_features='sqrt',\n",
       "                                                   n_estimators=1850)),\n",
       "                            ('gbr',\n",
       "                             GradientBoostingRegressor(max_depth=5,\n",
       "                                                       max_features='sqrt',\n",
       "                                                       min_samples_leaf=4,\n",
       "                                                       min_samples_split=5,\n",
       "                                                       n_estimators=5000))],\n",
       "                weights=[0.35, 0.65])"
      ]
     },
     "execution_count": 212,
     "metadata": {},
     "output_type": "execute_result"
    }
   ],
   "source": [
    "rfr_gbr_weighted.fit(X_train, y_train)"
   ]
  },
  {
   "cell_type": "code",
   "execution_count": 213,
   "id": "f9197721",
   "metadata": {},
   "outputs": [
    {
     "name": "stdout",
     "output_type": "stream",
     "text": [
      "45491.6844974767\n"
     ]
    }
   ],
   "source": [
    "evaluate(rfr_gbr_weighted, X_test, y_test)"
   ]
  },
  {
   "cell_type": "markdown",
   "id": "e405849b",
   "metadata": {},
   "source": [
    "GBR perfroms best"
   ]
  },
  {
   "cell_type": "markdown",
   "id": "36dbfc11",
   "metadata": {},
   "source": [
    "# Use all data and build a full pipeline"
   ]
  },
  {
   "cell_type": "code",
   "execution_count": 221,
   "id": "401cdaf8",
   "metadata": {},
   "outputs": [],
   "source": [
    "X = df.copy()"
   ]
  },
  {
   "cell_type": "code",
   "execution_count": 222,
   "id": "cd8579e9",
   "metadata": {},
   "outputs": [],
   "source": [
    "y = X.pop('median_house_value')"
   ]
  },
  {
   "cell_type": "code",
   "execution_count": 223,
   "id": "11ac842a",
   "metadata": {},
   "outputs": [],
   "source": [
    "X, y = remove_dublicates_abouve_60(X, y)"
   ]
  },
  {
   "cell_type": "code",
   "execution_count": 224,
   "id": "be231f9a",
   "metadata": {},
   "outputs": [],
   "source": [
    "X = preprocess(X)"
   ]
  },
  {
   "cell_type": "code",
   "execution_count": 226,
   "id": "2d109530",
   "metadata": {},
   "outputs": [],
   "source": [
    "y = np.array(y)"
   ]
  },
  {
   "cell_type": "code",
   "execution_count": 227,
   "id": "f45796ac",
   "metadata": {},
   "outputs": [],
   "source": [
    "final_model = Pipeline([\n",
    "    ('preprocess_features', preprocess_pipeline),\n",
    "    ('model', gbr_best)\n",
    "])"
   ]
  },
  {
   "cell_type": "code",
   "execution_count": 228,
   "id": "bac23a31",
   "metadata": {},
   "outputs": [
    {
     "data": {
      "text/plain": [
       "Pipeline(steps=[('preprocess_features',\n",
       "                 ColumnTransformer(transformers=[('Num_pipeline',\n",
       "                                                  Pipeline(steps=[('Imputer_num',\n",
       "                                                                   SimpleImputer(strategy='median')),\n",
       "                                                                  ('Standardize_num',\n",
       "                                                                   StandardScaler())]),\n",
       "                                                  ['longitude', 'latitude',\n",
       "                                                   'housing_median_age',\n",
       "                                                   'median_income',\n",
       "                                                   'households_per_population',\n",
       "                                                   'bedrooms_per_room']),\n",
       "                                                 ('Cat_pipeline',\n",
       "                                                  Pipeline(steps=[('Imputer_cat',\n",
       "                                                                   SimpleImputer(strategy='most_frequent')),\n",
       "                                                                  ('OneHotEncoding_cat',\n",
       "                                                                   OneHotEncoder(sparse=False))]),\n",
       "                                                  ['ocean_proximity'])])),\n",
       "                ('model',\n",
       "                 GradientBoostingRegressor(max_depth=5, max_features='sqrt',\n",
       "                                           min_samples_leaf=4,\n",
       "                                           min_samples_split=5,\n",
       "                                           n_estimators=5000))])"
      ]
     },
     "execution_count": 228,
     "metadata": {},
     "output_type": "execute_result"
    }
   ],
   "source": [
    "final_model.fit(X, y)"
   ]
  },
  {
   "cell_type": "code",
   "execution_count": 229,
   "id": "91caffc0",
   "metadata": {},
   "outputs": [
    {
     "data": {
      "text/plain": [
       "['final_model.joblib']"
      ]
     },
     "execution_count": 229,
     "metadata": {},
     "output_type": "execute_result"
    }
   ],
   "source": [
    "joblib.dump(final_model, 'final_model.joblib')"
   ]
  }
 ],
 "metadata": {
  "kernelspec": {
   "display_name": "Python 3 (ipykernel)",
   "language": "python",
   "name": "python3"
  },
  "language_info": {
   "codemirror_mode": {
    "name": "ipython",
    "version": 3
   },
   "file_extension": ".py",
   "mimetype": "text/x-python",
   "name": "python",
   "nbconvert_exporter": "python",
   "pygments_lexer": "ipython3",
   "version": "3.9.7"
  }
 },
 "nbformat": 4,
 "nbformat_minor": 5
}
